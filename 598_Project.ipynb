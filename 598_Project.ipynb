{
 "cells": [
  {
   "cell_type": "code",
   "execution_count": 12,
   "id": "f0c17ff7",
   "metadata": {},
   "outputs": [],
   "source": [
    "import numpy as np\n",
    "import pandas as pd"
   ]
  },
  {
   "cell_type": "code",
   "execution_count": 13,
   "id": "9105e80e",
   "metadata": {},
   "outputs": [],
   "source": [
    "df = pd.read_csv('annotations.csv')"
   ]
  },
  {
   "attachments": {},
   "cell_type": "markdown",
   "id": "41c74357",
   "metadata": {},
   "source": [
    "The provided dataset `annotations.csv` does not contain the crucial discharge summary due HIPAA requirements. Thus, you would need to run the following commands inside `\\data` directory in order to download the MIMIC-III dataset from Physionet, which contains the discharge summary.\n",
    "\n",
    "_You can replace the `physionetUsername` with your Physionet username. If you do not have one, you can register for free [here](https://physionet.org/about/database/)._\n",
    "\n",
    "\n",
    "```physionetUsername = input('Physionet Username: ')\n",
    "physionetDataset = 'https://physionet.org/files/mimiciii/1.4/NOTEEVENTS.csv.gz'\n",
    "assert physionetUsername is not None\n",
    "!wget -O \"data/mimic3/NOTEEVENTS.csv.gz\" -r -N -c -np --user {physionetUsername} --ask-password \"{physionetDataset}\"\n",
    "find . -name '*.csv.gz' -print0 | xargs -0 -n1 gzip -d\n",
    "```"
   ]
  },
  {
   "cell_type": "code",
   "execution_count": 14,
   "id": "0512bb5c",
   "metadata": {},
   "outputs": [],
   "source": [
    "notes = pd.read_csv('NOTEEVENTS.csv')"
   ]
  },
  {
   "cell_type": "code",
   "execution_count": 15,
   "id": "e8ad3fcc",
   "metadata": {},
   "outputs": [
    {
     "data": {
      "text/plain": [
       "118003"
      ]
     },
     "execution_count": 15,
     "metadata": {},
     "output_type": "execute_result"
    }
   ],
   "source": [
    "df.loc[0, \"Hospital.Admission.ID\"]"
   ]
  },
  {
   "cell_type": "code",
   "execution_count": 16,
   "id": "578a3ccb",
   "metadata": {},
   "outputs": [
    {
     "ename": "KeyError",
     "evalue": "'CATEGORY'",
     "output_type": "error",
     "traceback": [
      "\u001b[0;31m---------------------------------------------------------------------------\u001b[0m",
      "\u001b[0;31mKeyError\u001b[0m                                  Traceback (most recent call last)",
      "File \u001b[0;32m~/opt/anaconda3/lib/python3.9/site-packages/pandas/core/indexes/base.py:3802\u001b[0m, in \u001b[0;36mIndex.get_loc\u001b[0;34m(self, key, method, tolerance)\u001b[0m\n\u001b[1;32m   3801\u001b[0m \u001b[39mtry\u001b[39;00m:\n\u001b[0;32m-> 3802\u001b[0m     \u001b[39mreturn\u001b[39;00m \u001b[39mself\u001b[39;49m\u001b[39m.\u001b[39;49m_engine\u001b[39m.\u001b[39;49mget_loc(casted_key)\n\u001b[1;32m   3803\u001b[0m \u001b[39mexcept\u001b[39;00m \u001b[39mKeyError\u001b[39;00m \u001b[39mas\u001b[39;00m err:\n",
      "File \u001b[0;32m~/opt/anaconda3/lib/python3.9/site-packages/pandas/_libs/index.pyx:138\u001b[0m, in \u001b[0;36mpandas._libs.index.IndexEngine.get_loc\u001b[0;34m()\u001b[0m\n",
      "File \u001b[0;32m~/opt/anaconda3/lib/python3.9/site-packages/pandas/_libs/index.pyx:165\u001b[0m, in \u001b[0;36mpandas._libs.index.IndexEngine.get_loc\u001b[0;34m()\u001b[0m\n",
      "File \u001b[0;32mpandas/_libs/hashtable_class_helper.pxi:5745\u001b[0m, in \u001b[0;36mpandas._libs.hashtable.PyObjectHashTable.get_item\u001b[0;34m()\u001b[0m\n",
      "File \u001b[0;32mpandas/_libs/hashtable_class_helper.pxi:5753\u001b[0m, in \u001b[0;36mpandas._libs.hashtable.PyObjectHashTable.get_item\u001b[0;34m()\u001b[0m\n",
      "\u001b[0;31mKeyError\u001b[0m: 'CATEGORY'",
      "\nThe above exception was the direct cause of the following exception:\n",
      "\u001b[0;31mKeyError\u001b[0m                                  Traceback (most recent call last)",
      "Cell \u001b[0;32mIn[16], line 5\u001b[0m\n\u001b[1;32m      3\u001b[0m sub_id \u001b[39m=\u001b[39m df\u001b[39m.\u001b[39mloc[i, \u001b[39m\"\u001b[39m\u001b[39msubject.id\u001b[39m\u001b[39m\"\u001b[39m]\n\u001b[1;32m      4\u001b[0m hadm_id \u001b[39m=\u001b[39m df\u001b[39m.\u001b[39mloc[i, \u001b[39m\"\u001b[39m\u001b[39mHospital.Admission.ID\u001b[39m\u001b[39m\"\u001b[39m]\n\u001b[0;32m----> 5\u001b[0m summaries \u001b[39m=\u001b[39m notes[(notes[\u001b[39m'\u001b[39;49m\u001b[39mCATEGORY\u001b[39;49m\u001b[39m'\u001b[39;49m] \u001b[39m==\u001b[39m \u001b[39m'\u001b[39m\u001b[39mDischarge summary\u001b[39m\u001b[39m'\u001b[39m) \u001b[39m&\u001b[39m (notes[\u001b[39m'\u001b[39m\u001b[39mSUBJECT_ID\u001b[39m\u001b[39m'\u001b[39m] \u001b[39m==\u001b[39m sub_id) \u001b[39m&\u001b[39m (notes[\u001b[39m'\u001b[39m\u001b[39mHADM_ID\u001b[39m\u001b[39m'\u001b[39m] \u001b[39m==\u001b[39m hadm_id)]\n\u001b[1;32m      6\u001b[0m words \u001b[39m=\u001b[39m \u001b[39m\"\u001b[39m\u001b[39m\"\u001b[39m\n\u001b[1;32m      7\u001b[0m \u001b[39mfor\u001b[39;00m j \u001b[39min\u001b[39;00m summaries\u001b[39m.\u001b[39mindex:\n",
      "File \u001b[0;32m~/opt/anaconda3/lib/python3.9/site-packages/pandas/core/frame.py:3807\u001b[0m, in \u001b[0;36mDataFrame.__getitem__\u001b[0;34m(self, key)\u001b[0m\n\u001b[1;32m   3805\u001b[0m \u001b[39mif\u001b[39;00m \u001b[39mself\u001b[39m\u001b[39m.\u001b[39mcolumns\u001b[39m.\u001b[39mnlevels \u001b[39m>\u001b[39m \u001b[39m1\u001b[39m:\n\u001b[1;32m   3806\u001b[0m     \u001b[39mreturn\u001b[39;00m \u001b[39mself\u001b[39m\u001b[39m.\u001b[39m_getitem_multilevel(key)\n\u001b[0;32m-> 3807\u001b[0m indexer \u001b[39m=\u001b[39m \u001b[39mself\u001b[39;49m\u001b[39m.\u001b[39;49mcolumns\u001b[39m.\u001b[39;49mget_loc(key)\n\u001b[1;32m   3808\u001b[0m \u001b[39mif\u001b[39;00m is_integer(indexer):\n\u001b[1;32m   3809\u001b[0m     indexer \u001b[39m=\u001b[39m [indexer]\n",
      "File \u001b[0;32m~/opt/anaconda3/lib/python3.9/site-packages/pandas/core/indexes/base.py:3804\u001b[0m, in \u001b[0;36mIndex.get_loc\u001b[0;34m(self, key, method, tolerance)\u001b[0m\n\u001b[1;32m   3802\u001b[0m     \u001b[39mreturn\u001b[39;00m \u001b[39mself\u001b[39m\u001b[39m.\u001b[39m_engine\u001b[39m.\u001b[39mget_loc(casted_key)\n\u001b[1;32m   3803\u001b[0m \u001b[39mexcept\u001b[39;00m \u001b[39mKeyError\u001b[39;00m \u001b[39mas\u001b[39;00m err:\n\u001b[0;32m-> 3804\u001b[0m     \u001b[39mraise\u001b[39;00m \u001b[39mKeyError\u001b[39;00m(key) \u001b[39mfrom\u001b[39;00m \u001b[39merr\u001b[39;00m\n\u001b[1;32m   3805\u001b[0m \u001b[39mexcept\u001b[39;00m \u001b[39mTypeError\u001b[39;00m:\n\u001b[1;32m   3806\u001b[0m     \u001b[39m# If we have a listlike key, _check_indexing_error will raise\u001b[39;00m\n\u001b[1;32m   3807\u001b[0m     \u001b[39m#  InvalidIndexError. Otherwise we fall through and re-raise\u001b[39;00m\n\u001b[1;32m   3808\u001b[0m     \u001b[39m#  the TypeError.\u001b[39;00m\n\u001b[1;32m   3809\u001b[0m     \u001b[39mself\u001b[39m\u001b[39m.\u001b[39m_check_indexing_error(key)\n",
      "\u001b[0;31mKeyError\u001b[0m: 'CATEGORY'"
     ]
    }
   ],
   "source": [
    "summary = []\n",
    "for i in range(len(df)):\n",
    "    sub_id = df.loc[i, \"subject.id\"]\n",
    "    hadm_id = df.loc[i, \"Hospital.Admission.ID\"]\n",
    "    summaries = notes[(notes['CATEGORY'] == 'Discharge summary') & (notes['SUBJECT_ID'] == sub_id) & (notes['HADM_ID'] == hadm_id)]\n",
    "    words = \"\"\n",
    "    for j in summaries.index:\n",
    "        words += summaries.loc[j, \"TEXT\"]\n",
    "    summary.append(words)"
   ]
  },
  {
   "cell_type": "code",
   "execution_count": 92,
   "id": "fe0f63b1",
   "metadata": {},
   "outputs": [],
   "source": [
    "df['text'] = summary"
   ]
  },
  {
   "cell_type": "code",
   "execution_count": 17,
   "id": "bbaaba7e",
   "metadata": {},
   "outputs": [
    {
     "data": {
      "text/html": [
       "<div>\n",
       "<style scoped>\n",
       "    .dataframe tbody tr th:only-of-type {\n",
       "        vertical-align: middle;\n",
       "    }\n",
       "\n",
       "    .dataframe tbody tr th {\n",
       "        vertical-align: top;\n",
       "    }\n",
       "\n",
       "    .dataframe thead th {\n",
       "        text-align: right;\n",
       "    }\n",
       "</style>\n",
       "<table border=\"1\" class=\"dataframe\">\n",
       "  <thead>\n",
       "    <tr style=\"text-align: right;\">\n",
       "      <th></th>\n",
       "      <th>Unnamed: 0</th>\n",
       "      <th>Hospital.Admission.ID</th>\n",
       "      <th>subject.id</th>\n",
       "      <th>chart.time</th>\n",
       "      <th>cohort</th>\n",
       "      <th>Obesity</th>\n",
       "      <th>Non.Adherence</th>\n",
       "      <th>Developmental.Delay.Retardation</th>\n",
       "      <th>Advanced.Heart.Disease</th>\n",
       "      <th>Advanced.Lung.Disease</th>\n",
       "      <th>Schizophrenia.and.other.Psychiatric.Disorders</th>\n",
       "      <th>Alcohol.Abuse</th>\n",
       "      <th>Other.Substance.Abuse</th>\n",
       "      <th>Chronic.Pain.Fibromyalgia</th>\n",
       "      <th>Chronic.Neurological.Dystrophies</th>\n",
       "      <th>Advanced.Cancer</th>\n",
       "      <th>Depression</th>\n",
       "      <th>Dementia</th>\n",
       "      <th>Unsure</th>\n",
       "      <th>text</th>\n",
       "    </tr>\n",
       "  </thead>\n",
       "  <tbody>\n",
       "    <tr>\n",
       "      <th>0</th>\n",
       "      <td>0</td>\n",
       "      <td>118003</td>\n",
       "      <td>3644</td>\n",
       "      <td>118003</td>\n",
       "      <td>1</td>\n",
       "      <td>0</td>\n",
       "      <td>0</td>\n",
       "      <td>0</td>\n",
       "      <td>0</td>\n",
       "      <td>0</td>\n",
       "      <td>0</td>\n",
       "      <td>0</td>\n",
       "      <td>0</td>\n",
       "      <td>1</td>\n",
       "      <td>0</td>\n",
       "      <td>0</td>\n",
       "      <td>1</td>\n",
       "      <td>0</td>\n",
       "      <td>0</td>\n",
       "      <td>Admission Date:  [**2200-4-7**]     Discharge ...</td>\n",
       "    </tr>\n",
       "    <tr>\n",
       "      <th>1</th>\n",
       "      <td>1</td>\n",
       "      <td>177830</td>\n",
       "      <td>97736</td>\n",
       "      <td>999999</td>\n",
       "      <td>0</td>\n",
       "      <td>0</td>\n",
       "      <td>0</td>\n",
       "      <td>0</td>\n",
       "      <td>0</td>\n",
       "      <td>0</td>\n",
       "      <td>0</td>\n",
       "      <td>0</td>\n",
       "      <td>0</td>\n",
       "      <td>0</td>\n",
       "      <td>0</td>\n",
       "      <td>1</td>\n",
       "      <td>0</td>\n",
       "      <td>0</td>\n",
       "      <td>0</td>\n",
       "      <td>Admission Date:  [**2107-2-13**]              ...</td>\n",
       "    </tr>\n",
       "    <tr>\n",
       "      <th>2</th>\n",
       "      <td>2</td>\n",
       "      <td>185673</td>\n",
       "      <td>27694</td>\n",
       "      <td>999999</td>\n",
       "      <td>0</td>\n",
       "      <td>0</td>\n",
       "      <td>0</td>\n",
       "      <td>0</td>\n",
       "      <td>0</td>\n",
       "      <td>0</td>\n",
       "      <td>0</td>\n",
       "      <td>0</td>\n",
       "      <td>0</td>\n",
       "      <td>0</td>\n",
       "      <td>0</td>\n",
       "      <td>0</td>\n",
       "      <td>1</td>\n",
       "      <td>0</td>\n",
       "      <td>0</td>\n",
       "      <td>Admission Date:  [**2167-5-19**]              ...</td>\n",
       "    </tr>\n",
       "    <tr>\n",
       "      <th>3</th>\n",
       "      <td>3</td>\n",
       "      <td>131938</td>\n",
       "      <td>16275</td>\n",
       "      <td>131938</td>\n",
       "      <td>0</td>\n",
       "      <td>0</td>\n",
       "      <td>0</td>\n",
       "      <td>0</td>\n",
       "      <td>0</td>\n",
       "      <td>0</td>\n",
       "      <td>0</td>\n",
       "      <td>0</td>\n",
       "      <td>0</td>\n",
       "      <td>0</td>\n",
       "      <td>0</td>\n",
       "      <td>0</td>\n",
       "      <td>0</td>\n",
       "      <td>0</td>\n",
       "      <td>0</td>\n",
       "      <td>Admission Date:  [**2105-4-30**]       Dischar...</td>\n",
       "    </tr>\n",
       "    <tr>\n",
       "      <th>4</th>\n",
       "      <td>4</td>\n",
       "      <td>198999</td>\n",
       "      <td>4059</td>\n",
       "      <td>198999</td>\n",
       "      <td>1</td>\n",
       "      <td>0</td>\n",
       "      <td>0</td>\n",
       "      <td>0</td>\n",
       "      <td>0</td>\n",
       "      <td>0</td>\n",
       "      <td>1</td>\n",
       "      <td>0</td>\n",
       "      <td>0</td>\n",
       "      <td>0</td>\n",
       "      <td>0</td>\n",
       "      <td>0</td>\n",
       "      <td>1</td>\n",
       "      <td>0</td>\n",
       "      <td>0</td>\n",
       "      <td>Admission Date:  [**2108-3-23**]       Dischar...</td>\n",
       "    </tr>\n",
       "    <tr>\n",
       "      <th>...</th>\n",
       "      <td>...</td>\n",
       "      <td>...</td>\n",
       "      <td>...</td>\n",
       "      <td>...</td>\n",
       "      <td>...</td>\n",
       "      <td>...</td>\n",
       "      <td>...</td>\n",
       "      <td>...</td>\n",
       "      <td>...</td>\n",
       "      <td>...</td>\n",
       "      <td>...</td>\n",
       "      <td>...</td>\n",
       "      <td>...</td>\n",
       "      <td>...</td>\n",
       "      <td>...</td>\n",
       "      <td>...</td>\n",
       "      <td>...</td>\n",
       "      <td>...</td>\n",
       "      <td>...</td>\n",
       "      <td>...</td>\n",
       "    </tr>\n",
       "    <tr>\n",
       "      <th>1605</th>\n",
       "      <td>1605</td>\n",
       "      <td>154684</td>\n",
       "      <td>8743</td>\n",
       "      <td>999999</td>\n",
       "      <td>0</td>\n",
       "      <td>0</td>\n",
       "      <td>0</td>\n",
       "      <td>0</td>\n",
       "      <td>0</td>\n",
       "      <td>0</td>\n",
       "      <td>0</td>\n",
       "      <td>0</td>\n",
       "      <td>0</td>\n",
       "      <td>0</td>\n",
       "      <td>0</td>\n",
       "      <td>0</td>\n",
       "      <td>0</td>\n",
       "      <td>1</td>\n",
       "      <td>0</td>\n",
       "      <td>Admission Date:  [**2133-1-7**]              D...</td>\n",
       "    </tr>\n",
       "    <tr>\n",
       "      <th>1606</th>\n",
       "      <td>1606</td>\n",
       "      <td>110974</td>\n",
       "      <td>17580</td>\n",
       "      <td>999999</td>\n",
       "      <td>0</td>\n",
       "      <td>1</td>\n",
       "      <td>0</td>\n",
       "      <td>0</td>\n",
       "      <td>0</td>\n",
       "      <td>0</td>\n",
       "      <td>0</td>\n",
       "      <td>0</td>\n",
       "      <td>0</td>\n",
       "      <td>1</td>\n",
       "      <td>0</td>\n",
       "      <td>0</td>\n",
       "      <td>0</td>\n",
       "      <td>0</td>\n",
       "      <td>0</td>\n",
       "      <td>Admission Date:  [**2130-1-3**]              D...</td>\n",
       "    </tr>\n",
       "    <tr>\n",
       "      <th>1607</th>\n",
       "      <td>1607</td>\n",
       "      <td>160802</td>\n",
       "      <td>7188</td>\n",
       "      <td>160802</td>\n",
       "      <td>1</td>\n",
       "      <td>0</td>\n",
       "      <td>0</td>\n",
       "      <td>0</td>\n",
       "      <td>0</td>\n",
       "      <td>0</td>\n",
       "      <td>0</td>\n",
       "      <td>0</td>\n",
       "      <td>0</td>\n",
       "      <td>0</td>\n",
       "      <td>0</td>\n",
       "      <td>0</td>\n",
       "      <td>0</td>\n",
       "      <td>0</td>\n",
       "      <td>0</td>\n",
       "      <td>Admission Date:  [**2177-5-14**]              ...</td>\n",
       "    </tr>\n",
       "    <tr>\n",
       "      <th>1608</th>\n",
       "      <td>1608</td>\n",
       "      <td>106955</td>\n",
       "      <td>518</td>\n",
       "      <td>106955</td>\n",
       "      <td>0</td>\n",
       "      <td>0</td>\n",
       "      <td>0</td>\n",
       "      <td>0</td>\n",
       "      <td>0</td>\n",
       "      <td>0</td>\n",
       "      <td>0</td>\n",
       "      <td>0</td>\n",
       "      <td>0</td>\n",
       "      <td>0</td>\n",
       "      <td>1</td>\n",
       "      <td>0</td>\n",
       "      <td>0</td>\n",
       "      <td>0</td>\n",
       "      <td>0</td>\n",
       "      <td>Admission Date:  [**2109-4-12**]              ...</td>\n",
       "    </tr>\n",
       "    <tr>\n",
       "      <th>1609</th>\n",
       "      <td>1609</td>\n",
       "      <td>194572</td>\n",
       "      <td>6856</td>\n",
       "      <td>194572</td>\n",
       "      <td>1</td>\n",
       "      <td>0</td>\n",
       "      <td>0</td>\n",
       "      <td>0</td>\n",
       "      <td>0</td>\n",
       "      <td>0</td>\n",
       "      <td>0</td>\n",
       "      <td>0</td>\n",
       "      <td>0</td>\n",
       "      <td>0</td>\n",
       "      <td>0</td>\n",
       "      <td>1</td>\n",
       "      <td>0</td>\n",
       "      <td>0</td>\n",
       "      <td>0</td>\n",
       "      <td>Admission Date:  [**2122-8-18**]              ...</td>\n",
       "    </tr>\n",
       "  </tbody>\n",
       "</table>\n",
       "<p>1610 rows × 20 columns</p>\n",
       "</div>"
      ],
      "text/plain": [
       "      Unnamed: 0  Hospital.Admission.ID  subject.id  chart.time  cohort  \\\n",
       "0              0                 118003        3644      118003       1   \n",
       "1              1                 177830       97736      999999       0   \n",
       "2              2                 185673       27694      999999       0   \n",
       "3              3                 131938       16275      131938       0   \n",
       "4              4                 198999        4059      198999       1   \n",
       "...          ...                    ...         ...         ...     ...   \n",
       "1605        1605                 154684        8743      999999       0   \n",
       "1606        1606                 110974       17580      999999       0   \n",
       "1607        1607                 160802        7188      160802       1   \n",
       "1608        1608                 106955         518      106955       0   \n",
       "1609        1609                 194572        6856      194572       1   \n",
       "\n",
       "      Obesity  Non.Adherence  Developmental.Delay.Retardation  \\\n",
       "0           0              0                                0   \n",
       "1           0              0                                0   \n",
       "2           0              0                                0   \n",
       "3           0              0                                0   \n",
       "4           0              0                                0   \n",
       "...       ...            ...                              ...   \n",
       "1605        0              0                                0   \n",
       "1606        1              0                                0   \n",
       "1607        0              0                                0   \n",
       "1608        0              0                                0   \n",
       "1609        0              0                                0   \n",
       "\n",
       "      Advanced.Heart.Disease  Advanced.Lung.Disease  \\\n",
       "0                          0                      0   \n",
       "1                          0                      0   \n",
       "2                          0                      0   \n",
       "3                          0                      0   \n",
       "4                          0                      0   \n",
       "...                      ...                    ...   \n",
       "1605                       0                      0   \n",
       "1606                       0                      0   \n",
       "1607                       0                      0   \n",
       "1608                       0                      0   \n",
       "1609                       0                      0   \n",
       "\n",
       "      Schizophrenia.and.other.Psychiatric.Disorders  Alcohol.Abuse  \\\n",
       "0                                                 0              0   \n",
       "1                                                 0              0   \n",
       "2                                                 0              0   \n",
       "3                                                 0              0   \n",
       "4                                                 1              0   \n",
       "...                                             ...            ...   \n",
       "1605                                              0              0   \n",
       "1606                                              0              0   \n",
       "1607                                              0              0   \n",
       "1608                                              0              0   \n",
       "1609                                              0              0   \n",
       "\n",
       "      Other.Substance.Abuse  Chronic.Pain.Fibromyalgia  \\\n",
       "0                         0                          1   \n",
       "1                         0                          0   \n",
       "2                         0                          0   \n",
       "3                         0                          0   \n",
       "4                         0                          0   \n",
       "...                     ...                        ...   \n",
       "1605                      0                          0   \n",
       "1606                      0                          1   \n",
       "1607                      0                          0   \n",
       "1608                      0                          0   \n",
       "1609                      0                          0   \n",
       "\n",
       "      Chronic.Neurological.Dystrophies  Advanced.Cancer  Depression  Dementia  \\\n",
       "0                                    0                0           1         0   \n",
       "1                                    0                1           0         0   \n",
       "2                                    0                0           1         0   \n",
       "3                                    0                0           0         0   \n",
       "4                                    0                0           1         0   \n",
       "...                                ...              ...         ...       ...   \n",
       "1605                                 0                0           0         1   \n",
       "1606                                 0                0           0         0   \n",
       "1607                                 0                0           0         0   \n",
       "1608                                 1                0           0         0   \n",
       "1609                                 0                1           0         0   \n",
       "\n",
       "      Unsure                                               text  \n",
       "0          0  Admission Date:  [**2200-4-7**]     Discharge ...  \n",
       "1          0  Admission Date:  [**2107-2-13**]              ...  \n",
       "2          0  Admission Date:  [**2167-5-19**]              ...  \n",
       "3          0  Admission Date:  [**2105-4-30**]       Dischar...  \n",
       "4          0  Admission Date:  [**2108-3-23**]       Dischar...  \n",
       "...      ...                                                ...  \n",
       "1605       0  Admission Date:  [**2133-1-7**]              D...  \n",
       "1606       0  Admission Date:  [**2130-1-3**]              D...  \n",
       "1607       0  Admission Date:  [**2177-5-14**]              ...  \n",
       "1608       0  Admission Date:  [**2109-4-12**]              ...  \n",
       "1609       0  Admission Date:  [**2122-8-18**]              ...  \n",
       "\n",
       "[1610 rows x 20 columns]"
      ]
     },
     "execution_count": 17,
     "metadata": {},
     "output_type": "execute_result"
    }
   ],
   "source": [
    "df"
   ]
  },
  {
   "cell_type": "code",
   "execution_count": 94,
   "id": "c5c05de4",
   "metadata": {},
   "outputs": [],
   "source": [
    "df.to_csv('w_text.csv')  "
   ]
  },
  {
   "attachments": {},
   "cell_type": "markdown",
   "id": "d8d0eeeb",
   "metadata": {},
   "source": [
    "You can replace the original `annotations.csv` with the new dataset `w_text.csv` that contains the discharge summary."
   ]
  },
  {
   "cell_type": "code",
   "execution_count": 3,
   "id": "dc2b67d3",
   "metadata": {},
   "outputs": [],
   "source": [
    "from gensim.models import Word2Vec\n",
    "from gensim.test.utils import common_texts"
   ]
  },
  {
   "cell_type": "code",
   "execution_count": 4,
   "id": "d589f592",
   "metadata": {},
   "outputs": [
    {
     "name": "stdout",
     "output_type": "stream",
     "text": [
      "[['human', 'interface', 'computer'], ['survey', 'user', 'computer', 'system', 'response', 'time'], ['eps', 'user', 'interface', 'system'], ['system', 'human', 'system', 'eps'], ['user', 'response', 'time'], ['trees'], ['graph', 'trees'], ['graph', 'minors', 'trees'], ['graph', 'minors', 'survey']]\n"
     ]
    }
   ],
   "source": [
    "print(common_texts)"
   ]
  },
  {
   "cell_type": "code",
   "execution_count": 9,
   "id": "bb8695d5",
   "metadata": {},
   "outputs": [],
   "source": [
    "model = Word2Vec(sentences=words, vector_size=100, window=5, min_count=1, workers=4)\n",
    "model.wv.save_word2vec_format('test_w2v.txt', binary=False)"
   ]
  },
  {
   "cell_type": "code",
   "execution_count": 11,
   "id": "893d52bf",
   "metadata": {},
   "outputs": [],
   "source": [
    "model = Word2Vec(sentences=words, min_count=1)\n",
    "model.wv.save_word2vec_format('test_w2v.txt', binary=False)"
   ]
  },
  {
   "cell_type": "code",
   "execution_count": 44,
   "id": "d3fbae45",
   "metadata": {},
   "outputs": [],
   "source": [
    "text = .values\n"
   ]
  },
  {
   "cell_type": "code",
   "execution_count": 45,
   "id": "7dc4fb49",
   "metadata": {},
   "outputs": [
    {
     "name": "stdout",
     "output_type": "stream",
     "text": [
      "<class 'numpy.ndarray'>\n",
      "(1610,)\n",
      "[\"Admission Date:  [**2200-4-7**]     Discharge Date:  [**2200-4-10**]\\n\\nDate of Birth:   [**2146-9-21**]     Sex:  F\\n\\nService:  CARDIAC INTENSIVE CARE MEDICINE\\n\\nCHIEF COMPLAINT:  The patient was admitted to the Cardiac\\nIntensive Care Unit Medicine Service on [**2200-4-7**], with the\\nchief complaint of acute myocardial infarction and fever.\\n\\nHISTORY OF PRESENT ILLNESS:  The patient is a 53 year old\\nwhite female with a history of coronary artery disease,\\nhypertension, hypercholesterolemia and two pack per day\\ntobacco use with previous coronary artery bypass graft\\nsurgery presenting to an outside hospital on [**2200-4-6**], with a\\ntwo day history of fevers and confusion.  The patient had a\\nCT scan of the chest at that time which revealed pneumonia by\\nreport in the left lower lobe.\\n\\nWhile in the outside hospital Emergency Department, the\\npatient complained of chest pain.  The patient states that\\nshe has had this pain for approximately two weeks with no\\nrelief.  She was given Levofloxacin for apparent community\\nacquired pneumonia and cardiac enzymes were cycled.  The\\npatient was found to have a troponin of 3.98 which rose to\\n6.10 as well as CK MBs of 17.3 and 15.2 but no CPKs were\\nrecorded.  The patient's white blood cell count at that time\\nwas 20.6.  The patient received Lovenox and Aspirin and was\\ntransferred to the Cardiac Intensive Care Unit at [**Hospital1 346**] for further management.\\n\\nOf note, the patient's husband reports that she possibly took\\napproximately 17 tablets of 300 mg of Neurontin in the five\\ndays prior to admission.\\n\\nPAST MEDICAL HISTORY:\\n1.  Coronary artery disease, status post coronary artery\\n    bypass graft.\\n2.  Hypertension.\\n3.  Elevated cholesterol.\\n4.  Chronic low back pain.\\n5.  Bronchitis.\\n6.  Question of liver disease.\\n7.  Gastroesophageal reflux disease.\\n8.  Depression.\\n\\nALLERGIES:  Nitroglycerin produces significant decrease in\\nblood pressure.  Tape and bee stings.\\n\\nMEDICATIONS ON ADMISSION:\\n1.  Robaxin 750 mg two tablets q4hours p.r.n.\\n2.  Alprazolam 1.5 mg q.i.d.\\n3.  Lipitor 80 mg p.o. q.d.\\n4.  Gemfibrozil 600 mg b.i.d.\\n5.  Zoloft 150 mg q.d.\\n6.  Prilosec 20 mg q.d.\\n7.  Trazodone 150 mg q.h.s.\\n8.  Duragesic patch 100 mcg q72hours.\\n9.  Enteric Coated Aspirin 81 mg q.d.\\n10. Vancenase inhaler p.r.n.\\n11. Oxycodone 10 mg q4hours p.r.n.\\n12. Neurontin 300 mg p.o. b.i.d. to t.i.d.\\n\\nSOCIAL HISTORY:  The patient smokes two packs per day of\\ntobacco and drinks alcohol socially.  She is married and\\nlives with her husband.\\n\\nFAMILY HISTORY:  Notable for positive coronary artery disease\\nalthough no further or more specific history could be\\nobtained.\\n\\nPHYSICAL EXAMINATION:  On admission, the patient's vital\\nsigns were as follows:  Temperature 98.2, pulse 83,\\nrespiratory rate 17, blood pressure 89/50 with a mean of 67,\\noxygen saturation 98% on nonrebreather.  Of note, the patient\\nstates that her blood pressure usually runs between 80 and 90\\nsystolic.  In general, the patient was alert although had\\ndifficulty remembering and formulating thoughts.  Head, eyes,\\nears, nose and throat examination - The pupils are equal,\\nround, and reactive to light and accommodation.  Extraocular\\nmovements are intact.  Sclera anicteric.  Conjunctivae pink.\\nSlight jaundice and pallor.  The neck was supple with no\\nlymphadenopathy.  The lungs demonstrate coarse rhonchi,\\nquestion of upper airway sounds transmitted to the anterior\\nand midaxillary line.  Cardiovascular regular rate and\\nrhythm, S1 and S2, no murmurs, rubs or gallops.  The abdomen\\nwas soft, nontender, nondistended, with normoactive bowel\\nsounds.  The extremities were warm, 2+ dorsalis pedis pulses\\nbilaterally.  No edema.  Femoral pulses 2+, no bruits.\\nRectal examination was guaiac negative per Emergency\\nDepartment report at the outside hospital.\\n\\nLABORATORY DATA:  From the outside hospital, white count 20.6\\nwith 89 neutrophils, 1 band, 5 lymphocytes, 4 monocytes,\\nhematocrit 38.2, platelets 222, MCV 94.9.  Sodium 138,\\npotassium 4.1, chloride 98, bicarbonate 37, blood urea\\nnitrogen 16, creatinine 0.7, glucose 111.  Prothrombin time\\n12.3, partial thromboplastin time 28.9, INR 1.05.  As\\npreviously mentioned, troponin was 3.98 and 6.10 as well as\\nCK MBs of 17.3 and 15.2 although no CPKs obtainable.  Albumin\\n3.4, total protein 6.5, alkaline phosphatase 148, AST 109,\\nALT 25, total bilirubin 0.3, calcium 8.9.  Urinalysis was\\nnotable for urine protein of 30.\\n\\nElectrocardiogram showed normal sinus rhythm with a rate of\\n88 beats per minute.  Q-Tc 443, normal axis.  ST elevations\\nin leads III, aVF, ST depressions in leads I, aVL and V1\\nthrough V3 with a Q wave in lead III.\\n\\nChest x-ray showed no infiltrate and no pulmonary edema\\nalthough CT scan did show some question of a left lower lobe\\ninfiltrate not seen on chest x-ray.\\n\\nHOSPITAL COURSE:  The patient was admitted for management of\\nconfusion, fever, elevated white count, chest pain, and\\nquestion of myocardial infarction in the setting of coronary\\nartery disease, status post coronary artery bypass graft four\\nyears prior.  CKs were cycled.  The patient was held NPO and\\nfamily members were [**Name (NI) 653**].  The patient was continued on\\nLevofloxacin as started at the outside hospital and given\\ninhalers p.r.n.\\n\\nA psychiatry consultation was obtained on the morning of\\n[**2200-4-7**], given the patient's significant degree of\\ndisorientation and confusion and labile emotions.  The\\npsychiatrist's impression was that the patient was suffering\\nfrom delirium with waxing and [**Doctor Last Name 688**] mental status\\nexamination with poor memory.  At the time of the interview,\\nthe patient was agreeing to consider catheterization although\\nit was noted that if she changed her mind given the\\nimportance of this procedure that her husband and children\\nshould be [**Doctor Last Name 653**] regarding consent for the procedure and\\nthat her capacity to consent at that time should be held in\\nquestion.  Recommendations were made for Haldol p.r.n. as\\nwell as Xanax.  B12, folate, RPR and TSH were all ordered\\nwhich returned as normal.  The patient also had a head CT at\\nthe outside hospital which was unremarkable.\\n\\nCKs were sent at our hospital with initial level of CPK 464,\\nMB 12 and a troponin of 49 obtained.  The patient had been\\nplaced on Heparin prior to the anticipation of cardiac\\ncatheterization. The patient was initially consented to have\\ncardiac catheterization on [**2200-4-7**], although had an acute\\ndecompensation in mental status and anxiety attack and it was\\ndetermined that she would be at high risk for the procedure\\nat that time.  Thus, the procedure was deferred to the\\nmorning of [**2200-4-8**], and findings were as follows:\\n\\nLeft ventricular ejection fraction 62%.  Inferior\\nhypokinesis.  Normal valves.  Discrete proximal right\\ncoronary artery lesion of 100% stenosis.  Left main 100%\\ndiscrete stenosis.  Mid left anterior descending discrete\\n100% stenosis, 50% discrete midcircumflex stenosis.  Bypass\\ngraft saphenous vein graft to the right coronary artery was\\n100% discrete stenosis.  Left internal mammary artery to the\\nleft anterior descending patent and RIMA to the right\\ncoronary artery with a 40% stenosis.  No intervention was\\nperformed.\\n\\nIt was determined that the patient should be maximized on\\nmedical therapy only.  The patient was prescribed with\\nAspirin and Plavix at that time and given diuresis for\\nincreasing oxygen requirement.  The patient returned to the\\nfloor in stable condition and was to the Step-Down Cardiac\\nUnit on [**2200-4-8**].  The patient returned to baseline mental\\nstatus throughout the remainder of her hospital stay and was\\ndetermined to be in stable condition by [**2200-4-10**], to be\\ndischarged.  The patient was in agreement with this plan.\\n\\nDISCHARGE DIAGNOSES:\\n1.  Coronary artery disease, status post coronary artery\\n    bypass graft in [**2195**], now with occluded saphenous vein\\n    graft to be medically managed.\\n2.  Hypertension.\\n3.  Elevated cholesterol.\\n4.  Chronic low back pain.\\n5.  Bronchitis with possible acute pneumonia.\\n6.  Gastroesophageal reflux disease.\\n7.  Depression.\\n\\nDISCHARGE MEDICATIONS:\\n1.  Levofloxacin 500 mg p.o. q.d. times nine days to complete\\n    a fourteen day course.\\n2.  Plavix 75 mg one p.o. q.d.\\n3.  Colace 100 mg p.o. b.i.d. p.r.n. for constipation.\\n4.  Neutra-Phos one packet p.o. b.i.d. times thirty days.\\n5.  Prilosec 20 mg p.o. q.d.\\n6.  Enteric Coated Aspirin 325 mg p.o. q.d.\\n7.  Zoloft 150 mg p.o. q.d.\\n8.  Lipitor 80 mg p.o. q.d.\\n9.  Trazodone 150 mg p.o. q.h.s.\\n10. Fentanyl patch 100 mcg transdermal every three days.\\n11. Atrovent inhaler two puffs b.i.d.\\n12. Tylenol #3 p.r.n.\\n13. Alprazolam 1.5 mg p.o. q.i.d. p.r.n.\\n14. Gemfibrozil 600 mg p.o. q.d.\\n15. Neurontin 300 mg p.o. t.i.d.\\n\\nThe patient was to follow-up with her regular cardiologist,\\nDr [**First Name8 (NamePattern2) **] [**Last Name (NamePattern1) **], in one to two weeks after discharge.\\nConsideration is to be made in the future as to whether or\\nnot the patient's blood pressure can tolerate addition of\\neither an ace inhibitor or a beta blocker to her medical\\nregimen for mortality benefit.\\n\\n\\n\\n\\n                          [**First Name8 (NamePattern2) 2206**] [**First Name4 (NamePattern1) **] [**Last Name (NamePattern1) **], M.D.  [**MD Number(1) 18924**]\\n\\nDictated By:[**Last Name (NamePattern1) 7118**]\\n\\nMEDQUIST36\\n\\nD:  [**2200-4-10**]  12:15\\nT:  [**2200-4-12**]  08:50\\nJOB#:  [**Job Number 18925**]\\n\"\n",
      " \"Admission Date:  [**2107-2-13**]              Discharge Date:   [**2107-2-15**]\\n\\nDate of Birth:  [**2076-8-17**]             Sex:   M\\n\\nService: MEDICINE\\n\\nAllergies:\\nceclor / compazine\\n\\nAttending:[**Known firstname 2751**]\\nChief Complaint:\\nAbdominal pain\\n\\nMajor Surgical or Invasive Procedure:\\nNone\\n\\nHistory of Present Illness:\\nThis is a 30 year old male with PMH of barrett's esophagous s/p\\nnissen fundoplication in [**2093**], emergent splenectomy in [**2099**] s/p\\nsnow boarding accident, metastatic soft tissue fibrosarcoma s/p\\nsmall bowel resection in [**2104**] at [**Hospital1 2025**], started chemo in [**Month (only) **]\\nwith transition to temador chemotherapy (last dose during first\\nweek of [**Month (only) **]), who presents with fevers to 102, crampy\\nabdominal pain, and watery, nonbloody diarrhea.\\n.\\nTwo-three weeks prior to admission, patient originally admitted\\nto [**Hospital1 18**] [**Location (un) 620**] with fevers, abdominal pain, and watery\\ndiarrhea.  Found to be c. diff positive, initially treated with\\nPO vanco and IV flagyl X 2 days before he was transferred to\\n[**Hospital1 2025**], the location of most of his care.  At [**Hospital1 2025**], he was treated\\nwith flagyl monotherapy and discharged with instructions to\\ncomplete 10 day course of flagyl, which he completed 5 days\\nprior.  He had full resolution of his symptoms with good PO\\nintake, until this morning, when he developed fevers to 102,\\ncrampy abdominal pain, and watery diarrhea similar to his prior\\npresentation.  He denies any recent travel, sick contacts.\\n.\\nOf note, patient sees Dr. [**Last Name (STitle) 12262**] at [**Hospital1 2025**] for his oncologic care\\nand reports receiving temador chemotherapy during the first week\\nof [**Month (only) **].  During his prior admission, patient also found to\\nhave a clot in his right jugular vein and started on coumadin as\\nan outpatient.\\n.\\nIn the ED, initial vitals were T: 101.8, BP: 108/73, HR: 123,\\nRR: 18, O2sat: 100% on 2L.  Labs notable for leukocytosis of\\n23.8, plt of 602, lactate of 1.6, INR of 3.1.  ECG demonstrated\\nsinus tachycardia with rate of 121 and without signs of\\nischemia.  Guiac positive.  CT abdomen with contrast\\ndemonstrated colitis and multiple mesenteric masses and right\\npararenal mass consistent with patient's history of low-grade\\nfibrosarcoma.  At [**Hospital1 18**] [**Location (un) 620**], patient was given flagyl 500mg\\nIV X 1, toradol 30mg IV X 1, and 1 gram tylenol PO X 1.  On\\narrival to [**Hospital1 18**], patient was given vancomycin 500mg PO X 1,\\nmorphine 4mg IV X 1, 1mg ativan IV X 1 for rigors, 600mg motrin\\nPO X 1 and tylenol 1gram PO X 1.  Was given 3L NS.\\n\\n\\nPast Medical History:\\n- barrett's esophagous s/p nissen fundoplication in [**2093**] at\\n[**Hospital3 1810**] [**Location (un) 86**]\\n- emergent splenectomy in [**2099**] s/p snow boarding accident\\n- metastatic soft tissue fibrosarcoma s/p small bowel resection\\nin [**2104**].  Oncologist at [**Hospital1 2025**] is Dr. [**Last Name (STitle) 12262**].  S/p temador\\nchemotherapy during the first week of [**2106-12-13**].\\n- right IJ clot [**3-16**] port, on coumadin\\n\\n\\nSocial History:\\nDenies any smoking history.  Consumes on average 3 drinks per\\nweek.\\n\\n\\nFamily History:\\nEndorses history of strokes in his family.\\n\\nPhysical Exam:\\nVS: Temp: 102, BP: 107/65, HR: 108, RR: 20, 98% RA\\nGEN: anxious, diaphoretic\\nHEENT: PERRL, EOMI, anicteric, dry mucous membranes.  No\\nsupraclavicular or cervical lymphadenopathy, no jvd, no carotid\\nbruits, no thyromegaly or thyroid nodules\\nRESP: CTA b/l with good air movement throughout\\nCV: tachycardic, S1 and S2 wnl, no m/r/g\\nABD: Midline vertical scar from prior surgeries.  +BS in all 4\\nquadrants.  Tender diffusely to deep palpation.  No g/r/r.\\nEXT: no c/c/e\\nSKIN: Right sided port.  No rashes/no jaundice/no splinters\\nNEURO: AAOx3. Cn II-XII intact. 5/5 strength throughout. No\\nsensory deficits to light touch appreciated. No pass-pointing on\\nfinger to nose. 2+DTR's-patellar and biceps\\nSTOOL: Guiac positive.\\n\\n\\nPertinent Results:\\nLabs on Admission:\\n[**2107-2-13**] 04:57PM URINE  HOURS-RANDOM\\n[**2107-2-13**] 04:57PM URINE  UHOLD-HOLD\\n[**2107-2-13**] 12:20PM URINE  HOURS-RANDOM\\n[**2107-2-13**] 12:20PM URINE  GR HOLD-HOLD\\n[**2107-2-13**] 12:20PM URINE  COLOR-Straw APPEAR-Clear SP [**Last Name (un) 155**]-1.013\\n[**2107-2-13**] 12:20PM URINE  BLOOD-NEG NITRITE-NEG PROTEIN-NEG\\nGLUCOSE-NEG KETONE-NEG BILIRUBIN-NEG UROBILNGN-NEG PH-8.0\\nLEUK-NEG\\n[**2107-2-13**] 11:16AM   COMMENTS-GREEN TOP\\n[**2107-2-13**] 11:16AM   LACTATE-1.6\\n[**2107-2-13**] 11:00AM   GLUCOSE-99 UREA N-12 CREAT-0.9 SODIUM-138\\nPOTASSIUM-3.9 CHLORIDE-101 TOTAL CO2-24 ANION GAP-17\\n[**2107-2-13**] 11:00AM   estGFR-Using this\\n[**2107-2-13**] 11:00AM   ALT(SGPT)-97* AST(SGOT)-48* ALK PHOS-72 TOT\\nBILI-0.6\\n[**2107-2-13**] 11:00AM   LIPASE-29\\n[**2107-2-13**] 11:00AM   WBC-23.8* RBC-4.38* HGB-13.3* HCT-38.1*\\nMCV-87 MCH-30.3 MCHC-34.8 RDW-15.3\\n[**2107-2-13**] 11:00AM   NEUTS-86.6* LYMPHS-5.5* MONOS-7.4 EOS-0.1\\nBASOS-0.5\\n[**2107-2-13**] 11:00AM   PLT COUNT-602*\\n[**2107-2-13**] 11:00AM   PT-30.8* PTT-33.9 INR(PT)-3.1*\\n\\nLabs on Discharge:\\n[**2107-2-15**] 06:25AM BLOOD WBC-7.7# RBC-4.22* Hgb-12.8* Hct-37.6*\\nMCV-89 MCH-30.4 MCHC-34.1 RDW-15.6* Plt Ct-571*\\n[**2107-2-15**] 06:25AM BLOOD Neuts-53 Bands-0 Lymphs-23 Monos-17*\\nEos-0 Baso-0 Atyps-6* Metas-0 Myelos-1*\\n[**2107-2-15**] 06:25AM BLOOD Glucose-100 UreaN-4* Creat-0.7 Na-139\\nK-3.4 Cl-103 HCO3-28 AnGap-11\\n[**2107-2-15**] 06:25AM BLOOD ALT-60* AST-30 LD(LDH)-152 AlkPhos-60\\nTotBili-0.3\\n[**2107-2-15**] 06:25AM BLOOD Mg-1.9\\n\\nEKG: ECG demonstrated sinus tachycardia with rate of 121 and\\nwithout signs of ischemia.  Normal axis, normal intervals.\\n.\\nImaging:\\n.\\n[**2107-2-13**]: Chest radiograph ([**Hospital1 18**] [**Location (un) 620**]): No acute\\ncardiopulmonary process.\\n.\\n[**2107-2-13**]: CT Abdomen/Pelvis with Contrast ([**Hospital1 18**]): PRELIM READ:\\n1. mildly thickened colonic wall may represent resolving\\ninfectious colitis\\n2. multiple mesenteric masses and R pararenal mass c/w pt's hx\\nof low-grade fibrosarcoma\\n\\n\\nBrief Hospital Course:\\n#. Fever/abdominal pain/diarrhea: In lieu of recent hospital\\ndischarge from [**Hospital1 2025**] for c. diff infection and recurrence of\\nsymptoms with cessation of flagyl therapy, symptoms most\\nconsistent with recurrent c. diff infection.  CT abdomen with\\nevidence of colitis but without other nidus for infection. C\\nDiff toxin returned positive which , given his symptoms, is\\nconsistent with a relapse of his prior infection. He was started\\non PO vancomycin and IV flagyl in the ICU. He remained afebrile\\nand his abdominal pain resolved. Initially a fever workup was\\nstarted given his asplenia and blood cultures revealed no growht\\nto date in the hospital. Stool cultures did not reveal any of\\nCAMPYLOBACTER, O&P, VIBRIO, YERSINIA, OR E. COLI 0157:H7. The\\npatient was ultimately discharged on a total 14 days course of\\nPO Vanomycin and PO Metronidazole.  Major risk for initial C.\\nDiff infection is chemo and PPI therapy, and major risk for\\nrecurrent severe C. Diff colitis is PPI therapy during first\\ntreatment course.  Consideration to be given by PCP for\\ndiscontinuation of PPI if can tolerate.\\n.\\n#. Tachycardia: Likely secondary to underlying infection and\\nhypovolemia secondary to diarrhea. Responded to IV\\nresuscitation. HR on discharge was in the 80s.\\n.\\n#. Leukocytosis: Likely secondary to underlying infection as\\nabove.  Trended down to 7.7 upon discharge with antibiotics\\n.\\n#. Metastatic Fibrosarcoma: CT abd/pelvis demonstrates multiple\\nmesenteric masses and R pararenal mass. Patient will follow up\\nwith his outpatient oncologist and will have CT scan on CD to\\nshow his doctor at his next outpatient appt.\\n.\\n#. Right IJ Clot: secondary to intervention during last\\nhospitalization.  Patient on coumadin as an outpatient which was\\nheld initially as INR was supratherapeutic and patient was\\nstarted on abx. INR prior to d/c was 2. He will follow up with\\nhis outpatient providers to have INR monitoring while on\\nantibiotics.\\n.\\n#. Asplenia: fully vaccinated as outpatient. Unclear if has\\nprophylactic abx prescription at home but did not take it when\\nhe was febrile prior to admission. Will need f/u with PCP\\n[**Last Name (NamePattern4) **]:antibiotics for ppx in the future. Fever workup as above\\nrevealed no source other than C. Diff for infection.\\n.\\n#. Barrett's Esophagous: Stable, continued home PO PPI, though\\nconsideration for discontinuing this should be given since PPI\\ndon't affect transformation of Barrett's epithelium into\\nadenoca.\\n.\\n#. Code: Full\\n.\\n#. Outstanding Labs for follow-up:\\n[**2106-2-13**] MRSA Screen - PND\\n[**2106-2-13**] Blood Culture - PND\\n.\\n#. Active Issues on Discharge:\\n- Metastatic Fibrosarcoma (continued treatment per O/P\\noncologist)\\n- Reccurence of C. Diff (to discuss with PCP the need for\\nfurther PPI therapy)\\n- Transaminitis (Patient found on discharge to have a slighly\\nelevated ALT, with remaining liver enzymes WNL; encouraged PCP\\nf/u for further eval as needed).\\n\\nMedications on Admission:\\n- coumadin 7mg Monday, Thursday, Sat\\n- coumadin 6.5mg Tues, Wed, [**Last Name (LF) 2974**], [**First Name3 (LF) 1017**]\\n- prilosec 40mg PO BID\\n\\n\\nDischarge Medications:\\n1. vancomycin 250 mg Capsule Sig: Two (2) Capsule PO every six\\n(6) hours for 13 days.\\nDisp:*104 Capsule(s)* Refills:*0*\\n2. Prilosec 40 mg Capsule, Delayed Release(E.C.) Sig: One (1)\\nCapsule, Delayed Release(E.C.) PO twice a day.\\n3. metronidazole 500 mg Tablet Sig: One (1) Tablet PO every\\neight (8) hours for 13 days.\\nDisp:*39 Tablet(s)* Refills:*0*\\n4. warfarin 5 mg Tablet Sig: One (1) Tablet PO once a day:\\nPlease use 5 mg tablet in combination with 1 mg tablets to\\ncreate the appropriate warfarin dosing per your anticoagulation\\nnurses.\\nDisp:*30 Tablet(s)* Refills:*2*\\n5. warfarin 1 mg Tablet Sig: One (1) Tablet PO once a day:\\nPlease use 5 mg tablet in combination with 1 mg tablets to\\ncreate the appropriate warfarin dosing per your anticoagulation\\nnurses.\\nDisp:*30 Tablet(s)* Refills:*2*\\n\\n\\nDischarge Disposition:\\nHome\\n\\nDischarge Diagnosis:\\nPrimary Diagnosis:\\n- Clostridium Difficile Colitis\\n\\n\\nDischarge Condition:\\nMental Status: Clear and coherent.\\nLevel of Consciousness: Alert and interactive.\\nActivity Status: Ambulatory - Independent.\\n\\n\\nDischarge Instructions:\\nMr. [**Known lastname 12263**], you were admitted to the hospital because you had\\nan infection of your gastrointestinal tract known as Clostridium\\nDifficile. You have had this infection before in the past, and\\non your current admision you were started on two different\\nantibiotics to help treat Clostridium Difficile.\\n\\nWhen you leave the hospital:\\n1. START taking Vancomycin 500 mg every 6 hours for the next 8\\ndays\\n2. START taking Metronidazole 500 mg every 8 hours for the next\\n8 days\\n\\nPlease continue taking your other medications as you normally\\ndo. Please follow-up with your anticoagulation nurses to\\ndetermine your optimal dosing of warfarin\\n\\nFollowup Instructions:\\nName: [**Last Name (LF) **],[**First Name3 (LF) **] M.\\nAddress: [**Last Name (un) 12264**] 555 WACC, [**Location (un) **],[**Numeric Identifier 10614**]\\nPhone: [**Telephone/Fax (1) 12265**]\\nAppointment: [**Telephone/Fax (1) 2974**] [**2107-2-18**] 11:45am\\n\\nName: [**Last Name (LF) **],[**Name8 (MD) **] MD\\nAddress: [**Street Address(2) 12266**], [**Location (un) **],[**Numeric Identifier 718**]\\nPhone: [**Telephone/Fax (1) 12267**]\\nAppointment: Thursday [**2107-2-17**] 1:40pm for lab work\\n2:40pm with Dr. [**Last Name (STitle) 12262**].\\n\\n\\n\\n\"\n",
      " \"Admission Date:  [**2167-5-19**]              Discharge Date:   [**2167-6-11**]\\n\\nDate of Birth:  [**2112-10-13**]             Sex:   M\\n\\nService: MEDICINE\\n\\nAllergies:\\nPenicillins\\n\\nAttending:[**First Name3 (LF) 1828**]\\nChief Complaint:\\nsquamous cell carcinoma, bacteremia, need for PEG and extraction\\nof teeth\\n\\nMajor Surgical or Invasive Procedure:\\nNone major - had extraction of all teeth, and placment of\\ngastrostomy tube\\n\\n\\nHistory of Present Illness:\\nMr. [**Known lastname 40332**] is a 54 year old man with TYPE I DM, CKD stage V\\non dialysis, coronary artery disease who was diagnosed a little\\nover one month ago with SCC of head and neck.  He is admitted\\nnow for management of multiple issues.  Since his diagnosis,\\nradiation oncology, medical oncology and dental have spent\\nextensive time and energy arranging for treatment plan.\\nUltimately, decision made to pursue PEG tube, followed by teeth\\nextraction (very poor dentition) followed by radiation treatment\\nand Erbitux.  He was seen in the [**Hospital **] clinic today for planned PEG\\ntube but GI unable to place due to concern for compromising\\nairway with sedation.   He is admitted for ongoing management.\\n.\\nWhen seen, patient reports he has been fatigued of late, but has\\nbeen able to tolerate solids as long as they are followed by\\nliquids.   The patient's HCP also reports that he had fever last\\nweek and at dialysis 4D prior to admit ([**5-15**]) had blood cultures\\ndrawn which subsequently returned positive.  He was given\\nvancomycin on [**5-17**] at dialysis.  No fevers, chills, abdominal\\npain, chest pain, shortness of breath, diarrhea, nausea,\\nvomiting over this time.\\n=\\n=\\n=\\n=\\n=\\n=\\n=\\n=\\n================================================================\\nROS: Otherwise detailed review of systems negative except as\\nnoted.\\n\\nPast Medical History:\\nPCP: [**Last Name (NamePattern4) **]. [**Last Name (STitle) **] [**Name (STitle) 1022**] ([**Telephone/Fax (1) 40328**])\\nPrimary Nephrologist: Dr. [**Last Name (STitle) **] ([**0-0-**])\\n.\\nType 1 Diabetes Mellitus\\nFailure to Thrive\\nCoronary Artery Disease s/p MI in [**2149**] and CABG in [**2165**]\\nRight Eye Blindness\\nGERD\\nEnd Stage Renal Disease on HD (qMWF at [**University/College **] Dialysis\\nCenter)\\nAlcohol Abuse\\nSqaumous Cell Carcinoma of head and neck\\n\\nSocial History:\\nLives with daughter\\n[**Name (NI) 1139**]: 2 PPD\\nEtOH: previous history of alcohol use, pt denies recent use\\nDrugs: denies\\nPer patient's dialysis nurse ([**Doctor First Name **]), he has been very depressed\\nsince his wife passed away several years ago. He is very\\nwithdrawn and often comes to dialysis unwashed wearing clothes\\nhe has not changed for several days.\\nBrother-in-law: [**Name (NI) 4468**] [**Name (NI) **] [**Telephone/Fax (1) 40329**]; [**Telephone/Fax (1) 40330**]\\n--Health Care Proxy\\nDaughter: [**Name2 (NI) **] [**Telephone/Fax (1) 40331**]\\n\\n\\nFamily History:\\nNot contributory vis a vis current issues\\n\\nPhysical Exam:\\nVS:    Temp:97.4      BP:120/70 HR:88   RR:16   96%rm airO2sat\\n.\\nGeneral Appearance: cachectic, yellow bronze skin tone, NAD, non\\ntoxic\\nEyes:  EOMI, no conjuctival injection, anicteric\\nENT:  MMdry, poor dentition, palpable posterior cerv lymph node\\nRespiratory: CTA b/l with good air movement throughout\\nCardiovascular: RR, S1 and S2 wnl, +2/6 systolic murmur\\nGastrointestinal: nd, +b/s, soft, nt, scaphoid\\nMusculoskeletal/extremities: no edema\\nSkin/nails: warm, no rashes/yellowish skin tone\\nNeurological: AAOx3.  Cn II-XII intact.  5/5 strength\\nthroughout. No asterixis, no pronator drift, fluent speech.\\nPsychiatric:pleasant, appropriate affect\\nHeme/Lymph: posterior cervical adenopathy\\nGU: no catheter in place\\nLEFT AV FISTULA with bruit.\\n\\nPertinent Results:\\nAdmit labs:\\n\\n[**2167-5-20**] 05:40AM BLOOD WBC-6.7 RBC-4.63# Hgb-13.0*# Hct-41.5#\\nMCV-90# MCH-28.1# MCHC-31.3 RDW-13.3 Plt Ct-294\\n[**2167-5-20**] 05:40AM BLOOD Plt Ct-294\\n[**2167-5-20**] 05:40AM BLOOD Glucose-72 UreaN-47* Creat-5.7* Na-141\\nK-4.7 Cl-95* HCO3-29 AnGap-22*\\n[**2167-5-20**] 05:40AM BLOOD Calcium-8.3* Phos-5.0*# Mg-2.4\\n[**2167-5-20**] 05:40AM BLOOD Vanco-8.9*\\n=============================================================\\nTransthoracic echo:\\nThe left atrium and right atrium are normal in cavity size. The\\nright atrial pressure is indeterminate. A left-to-right shunt\\nacross the interatrial septum is seen at rest c/w a small\\nsecundum atrial septal defect. There is mild symmetric left\\nventricular hypertrophy with normal cavity size. There is\\nmoderate global left ventricular hypokinesis (LVEF = 35 %). No\\nmasses or thrombi are seen in the left ventricle. The estimated\\ncardiac index is normal (>=2.5L/min/m2). Right ventricular\\nchamber size and free wall motion are normal. The aortic valve\\nleaflets (3) appear minimally thickened with good leaflet\\nexcursion and no aortic regurgitation. The mitral valve leaflets\\nare mildly thickened. A very small fluttering echodensity is\\nsuggested on the posterior mitral leaflet and coaptation of the\\nmitral leaflets (clips 13, 14). There is no mitral valve\\nprolapse. Mild (1+) mitral regurgitation is seen. The estimated\\npulmonary artery systolic pressure is normal. There is no\\npericardial effusion.\\n\\nCompared with the prior study (images reviewed) of [**2166-10-21**],\\nleft ventricular systolic function is now depressed (global),\\nthe mitral leaflets are thickened with a possible vegetation and\\nmild mitral regurgitation is present. A small secundum type\\natrial septal defect is also identified.\\nIf clinically indicated a TEE is suggested to better define the\\nmitral valve.\\n==============================================\\nCHEST (PA & LAT)  [**2167-5-20**] 12:03 PM\\n\\nCHEST (PA & LAT)\\n\\nReason: ?pneumonia\\n\\n[**Hospital 93**] MEDICAL CONDITION:\\n54 year old man with SCC of head and neck, rigors, bacteremic at\\ndialysis\\nREASON FOR THIS EXAMINATION:\\n?pneumonia\\n\\nPROCEDURE: Chest PA and lateral on [**2167-5-20**].\\n\\nCOMPARISON: [**2167-4-9**] and [**2167-4-14**] PET/CT scan\\nexamination.\\n\\nHISTORY: 54-year-old man with squamous cell carcinoma of the\\nhead and neck with vigorous bacteremia dialysis, rule out\\npneumonia.\\n\\nFINDINGS:\\n\\nNew diffuse infiltrates are seen in both right and left lung,\\nmore severe on the right side predominantly in the right upper\\nand middle lobe. The patient is status post CABG procedure with\\nmultiple well aligned sternotomy wires and surgical clips. The\\nheart size is top normal. There is no pleural effusion.\\n\\nIMPRESSION:\\n1. New bilateral pulmonary infiltrates worrisome for atypical\\npneumonia.\\n\\n   RADIOLOGY  Final Report\\n\\nCT CHEST W/O CONTRAST  [**2167-5-23**] 2:03 PM\\n\\nCT CHEST W/O CONTRAST\\n\\nReason: ? evidence septic emboli/pneumonia\\n\\n[**Hospital 93**] MEDICAL CONDITION:\\n54 year old man with endocarditis, unclear pulm process\\nREASON FOR THIS EXAMINATION:\\n? evidence septic emboli/pneumonia\\nCONTRAINDICATIONS for IV CONTRAST: dialysis\\n\\nHISTORY: 54-year-old male with endocarditis and unclear\\npulmonary process.\\n\\nCOMPARISON: PET CT of [**2167-4-14**].\\n\\nTECHNIQUE: MDCT axial imaging was performed through the chest\\nwithout administration of IV contrast. Multiplanar reformatted\\nimages were essential for study interpretation.\\n\\nA feeding tube terminates in the pylorus. The patient is status\\npost CABG and median sternotomy. Diffuse coronary\\natherosclerotic calcifications are noted. Mediastinal lymph\\nnodes are noted, the largest measuring 12 mm in the subcarinal\\nregion. There is no hilar adenopathy. There is no pneumothorax\\nor pleural effusion. Patchy densities that were seen in the left\\nlung base on the PET CT of [**2167-4-14**] have improved. Milder\\nopacities in the right lung base are unchanged. Bullous changes\\nare again noted particularly in the lung apices. The central\\nairways are patent. The non-enhanced liver, gallbladder, spleen,\\npancreas, stomach, adrenal glands and kidneys, as partially\\nvisualized, are unremarkable. Punctate calcifications are noted\\nin the spleen which likely represent calcified granulomas.\\nExtensive calcifications are noted along the abdominal aorta and\\nalong the splenic artery.\\n\\nNo region of bony destruction is seen concerning for malignancy\\nor infection.\\n\\nIMPRESSION:\\n1. Resolving left predominantly lower lobe infiltrate which may\\nbe infectious or inflammatory in nature. Mild patchy opacities\\nin the right lower lung is unchanged.\\n2. Mediastinal lymph nodes unchanged.\\n\\n\\nBrief Hospital Course:\\nThis is 54 a year-old man with Type I dm, CKD stage V and\\nrecently diagnosed squamous cell cancer of head and neck\\nadmitted for multiple complaints.\\n.\\n1)Bacteremia/endocarditis\\n2)Squamous Cell Carcinoma of pharynyx\\n3)Bilateral pulmonary infiltrates, consistent with aspiration\\npneumonia\\n4)DM1 with complications and poorly controlled\\n5)CKD stage V on hemodialysis\\n6)Anemia chronic kidney disease\\n7)hypertension, well controlled on current medications\\n8)malnutrition -- at goal on tube feeds\\n9)hypothyroidism\\n\\n\\nDuring hospitalization, pt. had extraction of all teeth, and\\nsurgical placement of gastrostomy tube.\\n\\nFound to have bacteremia on blood cultures drawn on [**5-15**] at\\ndialysis center.  Staph and strep species.  Had been given dose\\nof vanc [**5-18**] at dialysis.  Echo here with vegetation on mitral\\nvalve.  Initiated vanc [**5-20**], serial surveillance blood cultures\\nnegative. Afebrile throughout.  Planned course for six weeks,\\nper recommendation of infectious disease team.  Dental\\nextractions performed as presumed source of endocarditis.  This\\nmeans that course of vancomycin would be completed on [**6-26**].\\n\\nPlan is 3 weeks of vancomycin prior to initiation of chemo/XRT\\nto allow appropriate bacteria clearance in addition to adequate\\nmucosal healing in mouth.  Radiation evaluated him for treatment\\nof squamous cell carcinoma and completed mapping, with plan for\\nfirst treatment on [**6-11**].   Rad onc, med/onc, ID involved in\\ndecision.   Additionally, pt. will undergo adjuvant chemo with\\nErbitux, first administered [**6-5**] at [**Hospital1 18**] with subsequent doses\\nto be administered after discharge to [**Hospital1 **] with coordination\\nwith Dr. [**First Name (STitle) **] [**Name (STitle) **] ([**Hospital1 18**] oncologist).  Please have oncology\\nstaff at [**Hospital1 **] contact Dr. [**Last Name (STitle) **] to discuss.  The likely\\narrangement is that patient will return to outpatient [**Hospital 478**]\\nclinic for infusions.\\n\\nFor pulmonary infiltrates, received chest CT on [**5-23**] which\\ndemonstrated interval improvement and no clear evidence of\\nseptic emboli, and initially received azithromycin for coverage\\nof atypical organisms completed, along with vancomycin, as\\nabove.\\n\\nOn [**5-27**] pt. aspirated after vomiting, and developed a new lll\\ninfiltrate consistent with pneumonitis, and required high flow\\noxygen to maintain oxygen sats in the 90s subsequent to this.\\nHe was transfered to the ICU after spiking a fever and with\\nradiographic evidence of bilateral aspiration pneumonia.  His\\nantibiotics were expanded to vanc/cipro/flagyl.  In the ICU, he\\nremained non-compliant with therapies, required restraint, and\\nrefused hemodialysis.  He was sent back to the floor the\\nfollowing day ([**5-29**]) as his oxygenation improved (90's on two\\nlitres nasal cannula, which he would not keep on, thus requiring\\nrestraint).  Olanzapine was started for agitation.  His mental\\nstatus improved gradually, and by discharge he was no longer\\nnoncompliant or agitated, and per family was near baseline.\\nPneumonia was felt to be aspiration, and he completed a seven\\nday course of cipro/flagyl with radiologic and clinical\\nimprovement.  Swallow evaluation [**6-5**] showed silent aspiration\\nbut with counseling and observation he tolerated soft foods and\\nthin liquids.  He was anxious to expand his diet, but was\\nwitnessed to have problems with aspiration when he eats more\\nsolid food.\\n\\nOn [**6-6**], the morning after receiving dexamethasone premedication\\nfor erbitux, he developed severe hyperglycemia, unresponsive to\\nlarge doses of SC insulin.  He was transferred to the ICU for\\nmanagement by an insulin drip, and was able to be transferred\\nback to the general medicine unit on [**6-8**].\\n\\nSince that time his sugars have remained in relatively good\\ncontrol, with a bedtime dose of glargine 14 u and insulin by\\nsliding scale.   He continued to receive dialysis which was well\\ntolerated.  His diet was advanced to soft solids and even some\\nregular food items (chicken pot pie, cheeseburger), with no\\nobserved aspiration.  On [**6-11**] he received his first radiation\\ntherapy treatment, with plans to return for daily treatments.\\n\\n\\nMedications on Admission:\\nPatient and HCP unsure of medications but say they are the same\\nas on discharge here in [**Month (only) 547**].   Also got dose of vancomycin at\\nlast dialysis\\n\\nMeds from last discharge summary:\\n1. Bupropion 100 mg Tablet Sustained Release [**Month (only) **]: One (1) Tablet\\n\\nSustained Release PO QAM (once a day (in the morning)).\\nDisp:*30 Tablet Sustained Release(s)* Refills:*0*\\n2. Levothyroxine 88 mcg Tablet [**Month (only) **]: One (1) Tablet PO DAILY\\n(Daily).\\nDisp:*30 Tablet(s)* Refills:*0*\\n3. Clonidine 0.3 mg/24 hr Patch Weekly [**Month (only) **]: One (1) Patch Weekly\\n\\nTransdermal QFRI (every Friday).\\nDisp:*4 Patch Weekly(s)* Refills:*0*\\n4. Metoprolol Succinate 100 mg Tablet Sustained Release 24 hr\\n[**Month (only) **]: One (1) Tablet Sustained Release 24 hr PO DAILY (Daily).\\nDisp:*30 Tablet Sustained Release 24 hr(s)* Refills:*0*\\n5. Lisinopril 20 mg Tablet [**Month (only) **]: Two (2) Tablet PO DAILY (Daily).\\nDisp:*60 Tablet(s)* Refills:*0*\\n6. Amlodipine 5 mg Tablet [**Month (only) **]: Two (2) Tablet PO DAILY (Daily).\\nDisp:*60 Tablet(s)* Refills:*0*\\n7. B Complex-Vitamin C-Folic Acid 1 mg Capsule [**Month (only) **]: One (1) Cap\\nPO DAILY (Daily).\\nDisp:*30 capsules* Refills:*0*\\n8. Simvastatin 10 mg Tablet [**Month (only) **]: One (1) Tablet PO once a day.\\nDisp:*30 Tablet(s)* Refills:*0*\\n9. Omeprazole 20 mg Capsule, Delayed Release(E.C.) [**Month (only) **]: One (1)\\nCapsule, Delayed Release(E.C.) PO once a day.\\nDisp:*30 Capsule, Delayed Release(E.C.)(s)* Refills:*0*\\n10. Insulin Glargine 100 unit/mL Solution [**Month (only) **]: Four (4) Units\\nSubcutaneous QHS.\\nDisp:*2 mL* Refills:*0*\\n11. Insulin Lispro 100 unit/mL Solution [**Month (only) **]: As per sliding\\nscale (included) Units, insulin Subcutaneous QACHS.\\nDisp:*10 mL* Refills:*0*\\n12. Reglan 10 mg Tablet [**Month (only) **]: One (1) Tablet PO QACHS.\\nDisp:*120 Tablet(s)* Refills:*0*\\n\\n\\nDischarge Medications:\\n1. Clonidine 0.3 mg/24 hr Patch Weekly [**Month (only) **]: One (1) Patch Weekly\\nTransdermal QTUES (every Tuesday).\\n2. Levothyroxine 88 mcg Tablet [**Month (only) **]: One (1) Tablet PO DAILY\\n(Daily).\\n3. Lisinopril 20 mg Tablet [**Month (only) **]: Two (2) Tablet PO DAILY (Daily).\\n\\n4. Amlodipine 5 mg Tablet [**Month (only) **]: Two (2) Tablet PO DAILY (Daily).\\n\\n5. B-Complex with Vitamin C     Tablet [**Month (only) **]: One (1) Tablet PO\\nDAILY (Daily).\\n6. Simvastatin 10 mg Tablet [**Month (only) **]: One (1) Tablet PO DAILY\\n(Daily).\\n7. Metoprolol Tartrate 50 mg Tablet [**Month (only) **]: One (1) Tablet PO BID\\n(2 times a day).\\n8. Lansoprazole 30 mg Tablet,Rapid Dissolve, DR [**Last Name (STitle) **]: One (1)\\nTablet,Rapid Dissolve, DR [**Last Name (STitle) **] DAILY (Daily).\\n9. Metoclopramide 10 mg Tablet [**Last Name (STitle) **]: One (1) Tablet PO Q6H (every\\n6 hours).\\n10. Heparin (Porcine) 5,000 unit/mL Solution [**Last Name (STitle) **]: One (1)\\nInjection TID (3 times a day).\\n11. Bupropion 100 mg Tablet [**Last Name (STitle) **]: One (1) Tablet PO BID (2 times\\na day).\\n12. Acetaminophen 160 mg/5 mL Solution [**Last Name (STitle) **]: One (1)  PO Q6H\\n(every 6 hours) as needed for fever or pain.\\n13. Senna 8.6 mg Tablet [**Last Name (STitle) **]: 1-2 Tablets PO BID (2 times a day)\\nas needed.\\n14. Humalog 100 unit/mL Solution [**Last Name (STitle) **]: Two (2) units Subcutaneous\\nQAC and QHS: by sliding scale, if BG is 160-200 give 2 units, if\\n201-240 give 4 units, if 241-280 give 6 units, if 281-320 give 8\\nunits, if 321-360 give 10 units, if 361-400 give 12 units, if\\ngreater than 401 [**Name8 (MD) 138**] MD.\\n15. Vancomycin 1000 mg IV HD PROTOCOL\\nto start [**6-8**] and continuing until [**6-26**]\\n16. Insulin Glargine 100 unit/mL Solution [**Month/Year (2) **]: One (1) 14u\\nSubcutaneous at bedtime.\\nDisp:*1 14u* Refills:*2*\\n17. Insulin Lispro 100 unit/mL Solution [**Month/Year (2) **]: One (1)\\nSubcutaneous once a day: see sliding scale (as attached\\nseparately).\\n18. B-Complex with Vitamin C     Tablet [**Month/Year (2) **]: One (1) Tablet PO\\nDAILY (Daily).\\n\\n\\nDischarge Disposition:\\nExtended Care\\n\\nFacility:\\n[**Hospital3 7**] & Rehab Center - [**Hospital1 8**]\\n\\nDischarge Diagnosis:\\n1. Head and neck cancer (pharyngeal squamous cell carcinoma,\\nnon-operable)\\n2. Type one diabetes, poorly controlled, with complication\\n3. Endocarditis with MSSA and streptococcal species most likely\\ndue to poor dentition and resultant bacteremia\\n4. aspiration pneumonia\\n5. end stage renal disease on hemodialysis\\n6. s/p extraction of all teeth due to severe caries and gingival\\ndisease\\n7. s/p surgical placement of gastrostomy tube\\n\\n\\nDischarge Condition:\\nStable, very cachectic, afebrile, edentulous, G-tube, no\\npermenent or semi-permanent intravenous access, left arm AV\\nfistula.\\n\\n\\nDischarge Instructions:\\nReturn to the [**Hospital1 18**] Emergency Department for:\\nFevers over 101 F, altered mental status, erythema or exudate\\nfrom G-tube, difficulty breathing, or any other alarming\\nsymptoms.\\n\\n[**Month (only) 116**] eat soft solids and some solid foods with discretion,\\nchewing completely.\\n\\nFollowup Instructions:\\nWith Dr. [**Last Name (STitle) **] - call for follow up appointment at: ([**Telephone/Fax (1) 21830**]\\nWith Dr. [**Last Name (STitle) 3929**] - for first XRT treatment on [**2167-6-11**] at [**Hospital1 18**]\\n([**Telephone/Fax (1) 8082**]) at 9:30 am.  Please arrange transport to and\\nfrom [**Hospital1 **] for appointment.\\nWith Dr. [**First Name (STitle) 1022**] - call for appointment at [**Telephone/Fax (1) 17794**]\\n\\n\\n\\n\"\n",
      " ...\n",
      " 'Admission Date:  [**2177-5-14**]              Discharge Date:   [**2177-5-20**]\\n\\n\\nService: MEDICINE\\n\\nAllergies:\\nNsaids\\n\\nAttending:[**First Name3 (LF) 5755**]\\nChief Complaint:\\nchest pain\\n\\nMajor Surgical or Invasive Procedure:\\nnone\\n\\n\\nHistory of Present Illness:\\n[**Age over 90 **] y.o. female with h/o CAD, hypercholesterolemia,\\ndiverticulosis, recent GIB c/b DVT p/w [**10-15**] SCP chest pain with\\nradiation to the back x 2 days. She describes it as indigestion.\\nShe received SLNG and ASA on route. Her pain remained until she\\narrived in ED at which point her CP had decreased. She has never\\nhad this pain before.\\nVitals on admission: T = 99.3, P = 46, BP = 86/30, 95% on RA\\nCT scan demonstrated b/l segmental pulmonary emboli and thus she\\nwas admitted to the ICU given her age and initial vital signs.\\n\\nPast Medical History:\\n1. GI Bleeding with Diverticulitis in [**2165**].  Recurrent GIB [**11-11**]\\nw/o clear source - suspect hemorrhoids vs diverticular\\n2. Sliding Hiatal hernia: Seen on UGI swallow in [**2164**]\\n3. Negative PMIBI [**7-11**] with EF 66% (multiple negative stress\\ntests)\\n4. Status post appendectomy.\\n5. Cataract surgery [**2167**]\\n6. Status post tubal ligation.\\n7. History of pneumonia.\\n8. Pap smear [**5-/2170**] with atrial thick pathology.\\n9. Retinacular cyst of right ring finger removed in [**2173**]\\n10. G4P2022\\n11. Mild centrilobular emphysema on CT Scan [**2171**]\\n12. Incidental left renal cysts on CT Scan [**2170**]\\n13. right popliteal DVT dx [**1-12**] s/p IVC filter\\n\\n\\n\\nSocial History:\\nLives in [**Hospital3 **].  No Etoh, tob, drugs.  Granddaughter =\\nHCP\\n\\nFamily History:\\nBrother: gastric, colonic cancer\\nCAD in multiple relatives\\n\\nPhysical Exam:\\non admission, per ICU admit note:\\nT 97.8  hr 68  bp 144/83  rr 16  O2 97% on 2 L NC\\ngenrl: sitting up in bed, talking on the phone\\nheent: perrla, eomi, no scleral icterus, MMM\\nneck: supple, no jvd or carotid bruits\\npulmonary: lungs CTA bilaterally\\nCV: rrr, normal s1/2, no m/r/g\\nabd: soft, nt/nd, nabs, no masses/hsm\\nskin: no rash\\nneuro: a, ox3, cn 2-12 grossly intact, normal bulk/strength/tone\\nthroughout, sensory intact to soft touch, no\\nnystagmus/dysarthria/tremor, FNF WNL, 2+ DTRs\\n\\nPertinent Results:\\n[**2177-5-14**] 12:11AM   WBC-5.6 RBC-4.03* HGB-10.7* HCT-30.5* MCV-76*\\nMCH-26.5* MCHC-34.9 RDW-16.9*\\n[**2177-5-14**] 12:11AM   NEUTS-47.8* LYMPHS-29.8 MONOS-17.6* EOS-4.3*\\nBASOS-0.6\\n[**2177-5-14**] 12:11AM   PLT COUNT-176\\n[**2177-5-14**] 12:11AM   PT-12.3 PTT-29.5 INR(PT)-1.1\\n.\\n[**2177-5-14**] 12:11AM   cTropnT-0.05*\\n[**2177-5-14**] 12:11AM   CK-MB-NotDone\\n[**2177-5-14**] 11:40AM   CK(CPK)-84\\n[**2177-5-14**] 11:40AM   CK-MB-3 cTropnT-<0.01\\n.\\n[**2177-5-14**] 12:11AM   GLUCOSE-118* UREA N-22* CREAT-1.3* SODIUM-141\\nPOTASSIUM-3.9 CHLORIDE-107 TOTAL CO2-25 ANION GAP-13\\n[**2177-5-14**] 12:11AM   ALT(SGPT)-13 AST(SGOT)-21 CK(CPK)-93 ALK\\nPHOS-64 AMYLASE-206* TOT BILI-0.3\\n[**2177-5-14**] 11:40AM   CALCIUM-9.1 PHOSPHATE-3.3 MAGNESIUM-2.4\\n.\\n[**2177-5-14**] 01:52AM   LACTATE-0.8\\n.\\n[**2177-5-14**] 01:55AM URINE  BLOOD-NEG NITRITE-NEG PROTEIN-NEG\\nGLUCOSE-NEG KETONE-NEG BILIRUBIN-NEG UROBILNGN-NEG PH-6.5\\nLEUK-TR\\n[**2177-5-14**] 01:55AM URINE  RBC-0-2 WBC-[**3-10**] BACTERIA-MOD YEAST-NONE\\nEPI-[**3-10**] TRANS EPI-0-2\\n.\\nblood cx: no growth\\n.\\nEKG [**2177-5-13**]:\\nSinus rhythm\\nLeft atrial abnormality\\nEarly precordial QRS transition - is nonspecific\\nModest nonspecific ST-T wave changes\\nSince previous tracing of [**2177-4-25**], atrial ectopy absent\\n.\\nCT OF THE CHEST WITH AND WITHOUT INTRAVENOUS CONTRAST [**2177-5-14**]:\\nThere is no axillary, hilar, or mediastinal lymphadenopathy.\\nThere is an air-fluid level and focal dilatation of the mid\\nesophagus, which could suggest an esophageal disorder.\\nThe heart appears normal and there are no pleural or pericardial\\neffusions. There is a segmental pulmonary embolism in the right\\nlower lobe, and an additional segmental pulmonary embolism in\\nthe left upper lobe.\\nThere is no evidence of aortic dissection.  There is fusiform\\ndilatation of the entire descending aorta to 33 mm in diameter,\\nminimally increased since the prior study, when it measured 29\\nmm.  Focal irregularity of the descending aorta at the\\ndiaphragmatic hiatus is unchanged.  There is mild interstitial\\nedema in the lungs, but no focal consolidation.  There are trace\\neffusions.  A cystic lesion in the pancreas is unchanged and\\nminimal prominence of the pancreatic duct is unchanged is also\\nagain noted and similar.\\nBONE WINDOWS:  There are no suspicious lytic or blastic lesions.\\n\\nIMPRESSION:\\n1.  Bilateral segmental pulmonary emboli.  Chronic stable\\nopacity at the right base of 15 mm in diameter, which may\\nrepresent scar.\\n2.  Stable cystic lesion in the pancreas.\\n.\\nKUB [**2177-5-14**]:  The TrapEase filter is projecting at the level of\\nL3, L2 vertebra onthe right side.  Incidental note is made of\\nlevoconvex scoliosis with its tip at the level of L3.  The\\ndistribution of the bowel gas within the large bowel is\\nunremarkable with stool and gas noted within the sigmoid colon\\nand rectum. The bladder is filled with IV contrast, most likely\\ndue to recent procedure.\\nIMPRESSION: Recently positioned TrapEase filter is projecting\\nalong right side of L2- L3 in the region of the IVC.\\n.\\nBILATERAL LENIS [**2177-5-14**]:\\nFINDINGS:  No comparisons.  Grayscale, color, and pulse wave\\nDoppler son[**Name (NI) 1417**] were performed of the bilateral common\\nfemoral, superficial femoral, and popliteal veins.  Normal flow,\\ncompressibility, waveforms, and augmentation are demonstrated\\nbilaterally.  No intraluminal thrombus is identified.\\nIMPRESSION:  No evidence of DVT in the bilateral lower\\nextremities.\\n.\\nULTRASOUND OF IVC FILTER [**2177-5-14**]:\\nUltrasound evaluation of the inferior vena cava demonstrates\\nlinear\\nhyperdensities in the supraumbilical aspect of the IVC likely\\nrepresent IVC filter. Color and pulse wave Doppler exams of the\\nIVC proximal and distal to the filter demonstrate patent blood\\nflow.\\nIMPRESSION:  Patent IVC filter.\\n\\n\\n\\nBrief Hospital Course:\\n# Bilateral segmental pulmonary emboli:  Diagnosed by CTA chest\\nin the ED.  Admitted to unit for anticoagulation given\\nrelatively recent GI bleed for close monitoring.  Hematocrit\\nremained stable despite one guaic positive stool (but\\nsupratherapeutic on heparin gtt at the time).  Patient was\\ncontinued on an IV heparin gtt until her INR was therapeutic on\\ncoumadin x 48 hours.  Her hematocrit remained stable.  Prior to\\nthe initiation of coumadin therapy, a discussion was held with\\nthe patient and her granddaughter to discuss the risk of a\\nlife-threatening GI bleed with this intervention.  The\\nalternative risk of life-threatening arrhythmia and hypotension\\nwith a progressive pulmonary embolus was also discussed.  The\\ngranddaughter and the patient both wished to go ahead with\\nanticoagulation.  PCP was notified via email of the plan of\\ntreatment.  Patient will follow-up with her primary care doctor\\nthis week to follow-up her hospital admission.  She will also\\nhave daily INRs by VNA to monitor her coumadin and will have her\\nhematocrit rechecked in 2 days.\\n.\\n# Fusiform aortic dilation:  Noted on CTA with note of\\nprogression since her prior CT but no evidence of dissection.\\nPatient informed of an additional risk of aortic dissection and\\nlife-threatening bleeding from this.  She will follow-up with\\nher primary care doctor for continued monitoring of this\\naneurysm.\\n.\\n# Esophageal dilation:  Air-fluid level noted on chest CTA.\\nPatient denied any complaints of GERD.  Her initial chest pain\\nthat brought her in did not recur while in house.  She was\\ncontinued on her sucralfate and PPI.  She is s/p a recent EGD\\n[**11-11**] with similar evidence of a patulous esophagus.\\n.\\n# Acute renal failure:  Resolved with small bolus of IVF.\\n.\\n# Anemia: Labs suggest AOCD.  Hematocrit remained stable.  On\\niron as an outpatient.  PCP to [**Name9 (PRE) 702**] for monitoring.\\n.\\n# Dispo: discharged home with services (VNA for coumadin\\nmonitoring, medication assistance, and home safety evaluation),\\ncleared by PT\\n\\nMedications on Admission:\\nPantoprazole 40 mg Tablet, Delayed Release (E.C.) Sig: One (1)\\nTablet, Delayed Release (E.C.) PO Q24H (every 24 hours).\\nSucralfate 1 g Tablet Sig: One (1) Tablet PO QID (4 times a\\nday): please dissolve in water to create a slurry (do not take\\nthis with any of your other medications) .\\nBimatoprost 0.03 % Drops Sig: One (1) gtt Ophthalmic qd ().\\nMultivitamin daily\\nferrous sulfate 325 mg po daily\\n\\n\\n\\nDischarge Medications:\\n1. Coumadin 2 mg Tablet Sig: 1-2 Tablets PO once a day: YOU MUST\\nHAVE YOUR COUMADIN LEVEL CHECKED EVERY DAY UNTIL YOUR DOSING\\nREGIMEN HAS BEEN ESTABLISHED.\\nDisp:*15 Tablet(s)* Refills:*0*\\n2. Pantoprazole 40 mg Tablet, Delayed Release (E.C.) Sig: One\\n(1) Tablet, Delayed Release (E.C.) PO Q24H (every 24 hours).\\n3. Sucralfate 1 g Tablet Sig: One (1) Tablet PO QID (4 times a\\nday): please dissolve in water to create a slurry (do not take\\nthis with any of your other medications)  .\\n4. Bimatoprost 0.03 % Drops Sig: One (1) gtt Ophthalmic qd ().\\n5. Outpatient Lab Work\\nPlease check daily PT/INR and call results to Dr. [**First Name8 (NamePattern2) 449**] [**Last Name (NamePattern1) 3510**],\\nphone: [**Telephone/Fax (1) 3511**]\\n6. Outpatient Lab Work\\nPlease draw hematocrit, PT/INR, and PTT on [**2177-5-22**] and call\\nresult to Dr. [**First Name8 (NamePattern2) 449**] [**Last Name (NamePattern1) 3510**], phone: [**Telephone/Fax (1) 3511**]\\n\\n\\nDischarge Disposition:\\nExtended Care\\n\\nFacility:\\nProvident Skilled Nursing Center - [**Location (un) 583**]\\n\\nDischarge Diagnosis:\\nprimary:\\nbilateral segmental pulmonary emboli\\nfusiform dilation of descending aorta\\nesophageal dilation noted on CT\\n\\nsecondary:\\nhistory of GI bleed\\n\\n\\nDischarge Condition:\\ngood: hematocrit stable, stable on room air\\n\\n\\nDischarge Instructions:\\nPlease call your doctor or go to the emergency room if you\\nexperience chest pain, blood in your stool, black stools,\\ndizziness, shortness of breath, or other concerning symptoms.\\n\\nPlease have your blood checked daily by the visiting nurse to\\nmonitor your coumadin level.\\n\\nFollowup Instructions:\\nPlease follow-up with Dr. [**First Name (STitle) 3510**] on Thursday, [**2177-5-22**] at\\n10:00 AM. Location: [**Last Name (NamePattern1) 98007**].  Phone: [**Telephone/Fax (1) 3511**]\\n\\n\\n\\n'\n",
      " \"Admission Date:  [**2109-4-12**]              Discharge Date:   [**2109-4-15**]\\n\\nDate of Birth:  [**2062-9-18**]             Sex:   M\\n\\nService: MEDICINE\\n\\nAllergies:\\nClindamycin\\n\\nAttending:[**First Name3 (LF) 3556**]\\nChief Complaint:\\ndyspnea\\n\\nMajor Surgical or Invasive Procedure:\\nDialysis\\n\\n\\nHistory of Present Illness:\\n46 y/o Ethiopian male hx T1DM, HIV, ESRD (secondary to\\nnephrolithiasis, htn and T1DM) previously on HD since [**7-14**], has\\nbeen on PD intermittently for several months, most recently\\nstarted PD 3d PTA, last HD [**4-8**], removed 5kg) and peripheral\\nneuropathy presents with dyspnea by EMS from dialysis (had PD\\novernight).  Pt notes SOB since last night, + cough with clear\\nsputum, + PND.  No fever/chills/diarrhea/n/v/dysuria.  + abd\\npain around PD stie with deep inspirationUsual SBP 150-180-\\nbaseline per OMR notes x 2 months.  No recent diet or medication\\nchanges.\\n.\\nED course: Temp 97.1, BP 215/95, HR 72, Sat 99% on 2l, started\\non nipride drip, titrated to 2mcg/kg/min, BP improved to 177/91.\\n Initial K 7.5, hemolyzed, repeat K 5.0.\\n\\n\\nPast Medical History:\\n- Type 1 diabetes\\n- HIV (boosted atazanavir, lamivudine, stavudine), dx'd [**2096**]\\n- ESRD on HD, planned change to peritoneal dialysis in near\\nfuture, on transplant list (clinical study for HIV/solid organ\\ntransplant)\\n- Recent hospitalizations for Serratia bacteremia (presumed\\nsource AV graft) most recently treated with 6 week course\\nmeropenem\\n- History of schistosomiasis\\n- Restless leg syndrome\\n- Peripheral neuropathy on gabapentin\\n- S/p cholecystectomy\\n\\n\\nSocial History:\\nMoved from [**Country 4812**] in [**2091**]. Lives with wife in [**Location (un) 538**].\\nWorks in support services for a law firm. Denies any alcohol or\\nIV drug use. Quit smoking last year; previous 30 pack-year\\nhistory.\\n\\n\\nFamily History:\\nNon-contributory.\\n\\nPhysical Exam:\\nT 97.2 HR 72 BP 188/84 RR 12 99% 2L NC\\nGeneral: appears to be more comfrtable, speaks in full\\nsentences, NAD\\nHEENT: anicteric, OP clear\\nNeck: No LAD or difficult to see JV\\nCV: RRR, Normal S1, S2 without m/r/g.\\nPulm: crackles [**12-12**] way up b/l, no wheezes\\nAbd: LLQ with PD catheter appears clean, although no dressing in\\nplace, soft, ND, ND, no HSM\\nExt: 2+ edema nonpitting b/l, 2+ distal pulses\\nNeuro: CNs II-XII grossly intact. A/O x 3.\\nSkin: No rash\\n\\n\\nPertinent Results:\\n[**2109-4-12**] 06:25AM   WBC-4.6 RBC-2.90* HGB-10.6* HCT-31.7*\\nMCV-109* MCH-36.6* MCHC-33.5 RDW-16.5*\\n[**2109-4-12**] 06:25AM   NEUTS-63.6 LYMPHS-21.8 MONOS-6.6 EOS-7.6*\\nBASOS-0.3\\n[**2109-4-12**] 06:25AM   CALCIUM-8.7 PHOSPHATE-5.8* MAGNESIUM-2.8*\\n[**2109-4-12**] 06:25AM   cTropnT-0.21* proBNP-[**Numeric Identifier 94326**]*\\n[**2109-4-12**] 06:25AM   GLUCOSE-92 UREA N-96* CREAT-13.2*# SODIUM-137\\nPOTASSIUM-7.5* CHLORIDE-97 TOTAL CO2-24 ANION GAP-24*\\n.\\nCT w/o contrast:\\nCT OF THE CHEST: Compared to prior CT from [**2109-3-26**], there\\nis almost mareked improvement in the diffuse bilateral\\nperibronchiolar opacities. Since the last exam, there is\\ninterval developmen of a wedge-shaped area of consolidation\\nwithin the left lung base, which may represent a pneumonia,\\nhowever given its shape cannot exlude infarction. Again seen are\\nsmall bilateral pleural effusions, not significantly changed.\\nThe heart and pericardium are unremarkable. Small mediastinal\\nlymph nodes are seen which do not meet CT criteria for\\npathologic enlargement.\\n\\nThe visualized upper abdomen is unremarkable. Bone windows\\ndemonstrate no suspicious lytic or sclerotic lesion. Surgical\\nclips are seen adjacent to the right crus of the diaphragm. A\\nright subclavian central venous catheter is seen with tip in the\\ndistal SVC.\\n\\nIMPRESSION: Compared to the prior CT from [**2109-3-26**], there\\nis marked improvement of the previously noted peribronchiolar\\nopacities within both lungs. However, there is development of a\\nnew wedge-shaped opacity within the left lower lobe concerning\\nfor pneumonia versus infarction. Stable bilateral small pleural\\neffusions.\\n.\\nCTA [**2109-4-14**]:\\nCT OF THE CHEST WITHOUT AND WITH IV CONTRAST: 10-mm hypodense\\nfocus in the left thyroid lobe. No filling defects are noted\\nwithin the main pulmonary artery and its branches. The\\npreviously described wedge-shaped opacity in the left lung base\\nis not seen on the current study. A rounded small pleural- based\\nopacity in the posterior aspect of the left lung base is seen\\nand unchanged when compared to a study dated [**2109-4-13**]. The\\nairways are patent to the segmental levels, bilaterally. Small\\nmediastinal and axillary lymph nodes, not pathologically\\nenlarged by CT criteria are again noted, unchanged. Heart and\\ngreat vessels are unchanged. No evidence of pericardial\\neffusions. Emphysematous changes are again seen. Diffuse mild\\nbilateral ground-glass opacities are unchanged when compared to\\na prior study.\\n\\nThe liver demonstrates two small hypodensities measuring 9 mm\\nand 1.7 cm in segment V and VIII, respectively previously\\ncharacterized as hemagioma.\\n\\nBONE WINDOWS: No suspicious lytic or sclerotic lesions are\\nidentified.\\n\\nIMPRESSION:\\n1. No evidence of pulmonary embolism.\\n2. Interval resolution of the left lower lobe wedge-shaped\\nopacity.\\n\\nBrief Hospital Course:\\nA&P: 46 yo M hx T1DM, HIV, ESRD p/w dyspnea, elevated BP, low\\ngrade fevers and cough.\\n.\\n# SOB and HTN: The patient presented to the ED with fluid\\noverload and hypertensive urgency and was started on a nipride\\ndrip. On transition to the inpatient setting he was converted to\\na labetalol drip to avoid buildup of cyanide biproducts while he\\nawaited hemodialysis. His dyspnea was well controlled on\\nreaching the floor and remained well controlled throughout his\\nhospital stay. His hypertension continued to be an issue\\nfollowing his first dialysis session, despite the removal of 5.2\\nL of fluid during that session. He was continued on labetalol\\ndrip to maintain SBP < 180 with 160 as target. Following his\\nsecond dialysis treatment on hospital day 2, he weighed 57kg,\\nwhich was considered his new dry weight. For improved BP\\ncontrol, he was started on 20 mg Lisinopril per recommendation\\nof the renal team. He also continued his outpatient regimen of\\n160 diovan [**Hospital1 **] and 50 atenolol QD. Although his pressure was\\nbetter controlled, he still had breaks into the 180s and his\\npressure control will need to be optimized as an outpatient.\\n.\\nRenal: The patient had recently transitioned from hemodialysis\\nto peritoneal dialysis, which was apparently insufficient,\\nresulting in fluid overload, hypertension and admission. The\\npatient was discharged with plans to resume hemodialysis at his\\nprevious hemodialysis center under the care of his outpatient\\nnephrologist. His next hemodialysis treatment was scheduled for\\nWed. [**4-17**].\\n.\\nHIV: The patient's HAART regimen was continued.\\n.\\nAnemia: Continue epogen at HD.\\n.\\n# Fevers: The patient briefly spiked a fever on [**4-13**] and\\nunderwent non-con CT of the chest. He had increasing cough as\\nwell. Sputum and blood cultures were negative. The patient's\\nnon-con Chest CT demonstrated a peripheral wedge shaped opacity,\\nand the patient was started on vancomycin and zosyn, given his\\nrelative immunosuppression and his recent hospitalization with\\nfull course of levofloxacin. A follow-up CTA was done to rule\\nout PE and showed complete resolution of the wedge shaped area,\\nwhich presumably was simply atelectasis. However, the lung was\\nnot entirely clear, and it was felt prudent to continue an [**7-19**]\\nday course of IV antibiotics. For this reason, the patient was\\ndosed one gram of ceftazadine and one gram of vancomycin\\nfollowing his dialysis on [**Last Name (LF) 766**], [**4-15**] and he was written a\\nprescription to receive one gram of vancomycin and one gram of\\nceftazadine after each of his dialysis sessions on [**4-17**] and\\n[**4-19**]. (and then the course would end). On the day of\\ndischarge, the patient's nasal viral swab returned positive for\\nparainfluenza virus. As discussed with ID, the patient's CT and\\nclinical findings could all be explained by parainfluenza virus,\\nbut there was also a significant chance for bacterial\\nsuperinfection. Thus, the antibiotic course was planned as\\ndescribed above.\\n.\\nHe was also scheduled for followup with his infectious disease\\nphysicians on [**4-23**].\\n.\\n\\n\\nMedications on Admission:\\nGabapentin 100 mg tid\\nAtenolol 50 mg PO daily\\nValsartan 160mg [**Hospital1 **]\\nCompazine PRN\\nInsulin (NPH 10 U [**Hospital1 **] and Regular 5 U QAM)\\nTenofovir 300 mg PO QSAT\\nRitonavir 100 mg p.o. daily\\nAtazanavir 300 mg p.o. daily\\nStavudine (Zerit) 20 mg PO QHD DAYS after HD\\nLamivudine (Epivir) 25 mg PO after HD on HD days\\n\\nDischarge Medications:\\n1. Gabapentin 100 mg Capsule Sig: One (1) Capsule PO TID (3\\ntimes a day).\\n2. Tenofovir Disoproxil Fumarate 300 mg Tablet Sig: One (1)\\nTablet PO QSAT (every Saturday).\\n3. Ritonavir 100 mg Capsule Sig: One (1) Capsule PO DAILY\\n(Daily).\\n4. Atazanavir 150 mg Capsule Sig: Two (2) Capsule PO DAILY\\n(Daily).\\n5. Stavudine 20 mg Capsule Sig: One (1) Capsule PO Q24H (every\\n24 hours).\\n6. Lamivudine 10 mg/mL Solution Sig: Twenty Five (25) mg PO\\nDAILY (Daily): Take orally after hemodialysis on hemodialysis\\ndays. .\\n7. Atenolol 50 mg Tablet Sig: One (1) Tablet PO DAILY (Daily).\\n8. Valsartan 160 mg Tablet Sig: One (1) Tablet PO BID (2 times a\\nday).\\n9. Lisinopril 20 mg Tablet Sig: One (1) Tablet PO DAILY (Daily).\\nDisp:*30 Tablet(s)* Refills:*2*\\n10. Prochlorperazine 5 mg Tablet Sig: 1-2 Tablets PO Q6H (every\\n6 hours) as needed for Nausea.\\n11. Zolpidem 5 mg Tablet Sig: Two (2) Tablet PO HS (at bedtime)\\nas needed.\\n12. Benzonatate 100 mg Capsule Sig: One (1) Capsule PO TID (3\\ntimes a day) as needed for cough.\\nDisp:*20 Capsule(s)* Refills:*2*\\n13. Insulin NPH Human Recomb 100 unit/mL Cartridge Sig: per\\nregimen  Subcutaneous twice a day.\\n14. Ceftazidime 1 g Recon Soln Sig: One (1)  Intravenous at\\ndialysis for 2 doses: Patient should receive 1 gram of\\nceftazadime administered at his dialysis center after dialysis\\non [**4-17**] and [**4-19**].  .\\nDisp:*2 doses* Refills:*0*\\n15. Vancomycin 1,000 mg Recon Soln Sig: One (1) g Intravenous at\\ndialysis for 2 doses: 1 gram, to be given after dialysis at 5/9\\nand [**4-19**].\\nDisp:*2 doses* Refills:*0*\\n\\n\\nDischarge Disposition:\\nHome\\n\\nDischarge Diagnosis:\\nEnd stage renal disease requiring regular hemodialysis\\nParainfluenza viral infection\\nHIV\\nHypertensive urgency\\nVolume overload\\n\\n\\nDischarge Condition:\\nGood\\n\\n\\nDischarge Instructions:\\nYou were admitted with elevated blood pressure and respiratory\\ndifficulty which improved with dialysis. However, your blood\\npressure continues to be elevated at times throughout the day.\\nYou will need to work with your clinic physicians to improve\\nyour blood pressure. Elevated blood pressures for a long period\\nof time with increase your risk of stroke and heart disease.\\n.\\nYou have a cough and imaging of your chest showed that you may\\nhave a small infection. For this you need to have IV antibiotics\\n(ceftazadine and vancomycin) administered at your next two\\ndialysis sessions on Wednesday [**4-17**] and Friday [**4-19**]. You\\nhave been given prescriptions for these two antibiotics and your\\nphysician at dialysis has been informed.\\n.\\nIn addition, you should check your temperature on a daily basis\\nand any time that you feel sick. If you have a temperature\\ngreater than 100.4 that does not resolve quickly, you should\\ncall your primary care physician.\\n.\\nYou had testing for TB during this hospitalization which was\\nnegative. One of your tests is still pending. If this test is\\npositive, you will be contact[**Name (NI) **]. Your physicians at [**Hospital3 **]\\nalso will have access to these results when you come in for\\nappointments.\\n.\\nYou will need regular dialysis. Your next dialysis [**Hospital3 648**]\\nis scheduled for Wednesday, [**4-17**] at 6:45 AM. It is vital that\\nyou do not miss [**First Name (Titles) **] [**Last Name (Titles) 648**].\\n.\\nPlease keep your other appointments listed in the appointments\\nsection. These doctors [**Name5 (PTitle) **] help [**Name5 (PTitle) **] with your blood pressure.\\n.\\nYou have been started on a new blood pressure medication called\\nlisinopril. You should take this medication as prescribed, and\\ncontinued taking your other blood pressure medications.\\n\\nFollowup Instructions:\\nDIALYSIS at your regular dialysis center: Wednesday, [**4-17**] at\\n6:45 AM.\\n\\n.\\nProvider: [**Last Name (NamePattern4) **]. [**First Name (STitle) **] [**Doctor Last Name 9406**] Phone:[**Telephone/Fax (1) 457**] Date/Time:[**2109-4-23**]\\n10:00\\n.\\nProvider: [**First Name4 (NamePattern1) 971**] [**Last Name (NamePattern1) 970**], MD Phone:[**Telephone/Fax (1) 673**]\\nDate/Time:[**2109-5-14**] 9:10\\n\\n\\n                             [**First Name11 (Name Pattern1) **] [**Last Name (NamePattern4) 3559**] MD, [**MD Number(3) 3560**]\\n\\nCompleted by:[**2109-5-8**]\"\n",
      " \"Admission Date:  [**2122-8-18**]              Discharge Date:   [**2122-9-5**]\\n\\nDate of Birth:  [**2067-3-30**]             Sex:   M\\n\\nService: SURGERY\\n\\nAllergies:\\nPatient recorded as having No Known Allergies to Drugs\\n\\nAttending:[**First Name3 (LF) 17683**]\\nChief Complaint:\\nabdominal pain\\n\\nMajor Surgical or Invasive Procedure:\\nPROCEDURE:\\n1.  Exploratory laparotomy, diverting end colostomy, left-\\n    sided.\\n2.  Irrigation of pelvic abscess, placement of drains in\\n    pelvic abscess.\\n3.  Intubation\\n\\n\\nHistory of Present Illness:\\nMr. [**Known lastname 25087**] is a gentleman with rectal cancer\\noriginally treated in the beginning of [**2116-11-11**] with\\ncombined modality 5-FU, leucovorin, and radiation therapy with\\ngood response.  He was well until [**2121-7-11**] when his CEA\\nbegan\\nto rise.  Workup revealed a left lower lobe nodule and a right\\nupper lobe mass.\\n\\nHe underwent a VATS resection of the right upper lobe on\\n[**2121-12-10**] and the pathology revealed a metastatic tumor from a\\ncolonic origin.  Mediastinal lymph node sampling was negative.\\nHe then underwent a left lower lobe wedge resection on [**2122-1-22**]\\nof the left lower lobe nodule and this was also consistent with\\na\\ncolonic metastasis.  He began tx with FOLFOX + Avastin.  He\\nrequired a 20% dose reduction of 5FU bolus and CI due to n/v and\\nabdominal cramping.  He completed 3 cycles of this, last dose on\\n[**2122-6-4**].\\n\\nDuring his course he developed neck pains and headaches and was\\nfound to have a rising CEA.  A restaging CT was performed on\\n[**2122-6-15**] and uncovered a PE in a small branch of the LLL pulmonary\\nartery.  To evaluate his headache prior to anticoagulation, and\\nMRI was performed on [**2122-6-16**] found a brain metastasis on the\\nright\\nocciptal lobe, and dural enhancement in the L brain.\\n\\nHis PE was managed with an IVC filter given the brain\\nmetastasis.\\nHe underwent resection of his brain metastasis on [**2122-6-19**] with\\nDr.\\n[**Last Name (STitle) **].  Additionally, an upper extremity ultrasound on [**2122-6-22**]\\ndocumented the presence of a LIJ thrombus with extension to the\\nsubclavian.\\n\\nHe began whole brain XRT.  This was complicated by\\nforgetfullness, low grade fevers, and persistent headache.  His\\nsteroids were tapered.  He was admitted twice to [**Hospital3 417**]\\nhospital for evaluation of dehydration, hypotension, and fever,\\nwithout any source identified.  He contninued to lose weight and\\nbe weak with occasional headache.  His steroids were increased\\nwith improvement of his headaches, and no further fevers.\\n\\nHe was noted to be hyponatremic at the end of [**Month (only) 205**], along with\\nelevated liver enzymes.  His phenytoin was being tapered off.\\nLiver US was unremarkable, and LFTs trended down after cessation\\nof phenytoin.  A repeat MRI on [**2122-8-13**] was negative.  He was\\nadvised increase PO intake with gatorade for his hyponatremia.\\n\\nHe developed difficulty with constipation, and reported having\\nsmall incompletely evacuating bowel movements since the end of\\n[**Month (only) 205**].  Laxatives were escalated, but he continued to have\\ndifficulty.  His home health aide reported he was self\\nrectalizing to assist with his bowel movements.  Suppositories\\nwere advised, but he continued to have difficulty.  He developed\\nworsening abdominal pain and constipation and was referred to\\nhis\\nlocal ED, where he went on [**2122-8-17**].  There he was disimpacted.\\nHe\\nwas evaluated by surgery and underwent CT scan which\\ndemonstrated\\nan anastamotic perforation and abcess with fluid collection.  He\\nwas transferred to [**Hospital1 18**] for further management.\\n\\nHe notes that for the last several weeks he has been having\\nconstipation with cramping.  This weekend (3dPTA) he began to\\nexperience significantly worsened diffuse abdominal pain, which\\nhas persisted through his OSH hospitalization.  He has had\\nnausea\\nsince his chemotherapy, not recently worsened.  He has not noted\\nany fevers.\\n\\n\\nPast Medical History:\\nrectosigmoid CA s/p resection [**2116**] and chemo/XRT\\nHTN\\nhyperlipidemia\\nVATS- RUL/LLL nodule - cervical meiastinoscopy with LN biopsy\\nrevealed no evidence of malignancy, then s/p VATS RUL\\n\\nSocial History:\\nSeven to ten pack year history, discontinued in\\nthe [**2086**]. He has had exposure to asbestos working in a shipyard\\n\\nfrom [**2090**] to [**2095**]. He uses alcohol occasionally and socially.\\nHe denies any exposure to uranium, nickel, cadmium, or radon.\\nLives with wife and 2 [**Name2 (NI) 25084**] 17/19.\\n\\n\\nFamily History:\\nFather died of cirrhosis at the age of 49. One\\nsibling with paranoid schizophrenia. One grandparent died of TB.\\n\\n\\nOne grandparent had a stroke. One grandparent had an MI.\\n\\nPhysical Exam:\\nOn discharge-\\nT 96.4 P 93 BP 93/66 RR16 98%4L\\nGen- weak white male, looks older than stated age, NAD\\nHEENT- NCAT, EOMI\\nPulm- CTAB. no W,R. soft exp rhonchi on L.\\nCV- RRR. no M,R,G\\nAbd- flat, soft, +BS, colostomy with bag, midline incision\\nstaples loosely with no erythema or induration\\nGU- foley in place\\nExt- 2+ LE and UE edema. petechiae on UE's and LE's.\\n\\nPertinent Results:\\n[**2122-8-31**] 06:55AM BLOOD WBC-17.9* RBC-3.37* Hgb-10.5* Hct-30.7*\\nMCV-91 MCH-31.1 MCHC-34.1 RDW-19.6* Plt Ct-59*\\n[**2122-9-2**] 09:21PM BLOOD Plt Ct-72*\\n[**2122-8-30**] 07:07AM BLOOD PT-13.6* PTT-23.4 INR(PT)-1.2*\\n[**2122-8-28**] 06:34PM BLOOD Fibrino-220\\n[**2122-8-25**] 05:06PM BLOOD FDP-10-40\\n[**2122-8-25**] 05:06PM BLOOD Ret Aut-1.4\\n[**2122-8-31**] 06:55AM BLOOD Glucose-109* UreaN-29* Creat-0.8 Na-133\\nK-4.2 Cl-100 HCO3-24 AnGap-13\\n[**2122-8-30**] 07:07AM BLOOD ALT-71* AST-48* LD(LDH)-469* AlkPhos-246*\\nAmylase-79 TotBili-1.1\\n[**2122-8-30**] 07:07AM BLOOD Lipase-45\\n[**2122-8-20**] 03:03AM BLOOD CK-MB-NotDone cTropnT-<0.01\\n[**2122-8-31**] 06:55AM BLOOD Calcium-7.1* Phos-3.1 Mg-1.8\\n[**2122-8-30**] 07:07AM BLOOD Albumin-2.3* Calcium-7.2* Phos-2.8 Mg-1.9\\n[**2122-8-28**] 06:34PM BLOOD calTIBC-111* VitB12-[**2043**]* Folate-GREATER\\nTH Ferritn-1870* TRF-85*\\n[**2122-8-25**] 05:06PM BLOOD Hapto-248*\\n[**2122-8-19**] 01:45PM BLOOD TSH-0.85\\n[**2122-8-19**] 08:58AM BLOOD Cortsol-18.8\\n[**2122-8-25**] 03:38AM BLOOD Lactate-1.8\\n[**2122-8-26**] 02:51AM BLOOD freeCa-1.13\\n[**2122-8-29**] 03:23PM BLOOD SEROTONIN RELEASE ANTIBODY-PND\\n\\nBrief Hospital Course:\\nPt accepted from OSH.  He was started on amp/levo/flagyl,\\ndexamethasone and made NPO.  CT showed large amount of free\\nintraperitoneal air, large abscess at level of rectosigmoid\\nanastomosis, severe rectal wall thickening, most likely\\npost-radiation, but intramural abscess extension is also\\npossible, additional second collection to the left of bladder\\ndome, and IVC filter in place with thrombus about filter arms.\\nHe was taken to surgery emergently for exp lap. They found\\nevidence of some pus in the abdomen. There was no evidence of\\ngross studding or gross soilage high up in the abdomen. Deep in\\nthe pelvis, there was a large amount of pus. There was some\\nfecal contamination contained deep in the pelvis. There was\\nobvious air and stool leaking out of a small perforation quite\\ndeep in the pelvis. It was unclear whether this was\\ndiverticulitis or at the anastomosis.\\n\\nPostop, he was in respiratory distress and was intubated in the\\nICU.  He continued to do poorly in the ICU with lactic acidosis\\nand resp failure.  At most acute, base deficit was -20.  Pt was\\nextubated on [**8-25**].  Tubefeeding was started on [**8-22**].  TPN was\\ngiven for 3 days [**Date range (1) 25088**].  Amp was stopped on [**8-22**] and vanco\\nstarted.  On [**8-24**] he was transfused 2 u PRBCs for anemia.\\nProcrit was started.  He was transferred to the floor on [**8-30**].\\nAbx's were dc'd on [**9-1**].\\n\\nOn [**8-20**] it was noted that plt count was falling.  At lowest it\\nwas 59.  Dx of heparin induced thrombocytopenia was made.  All\\nheparin was dc'd and at dc plt count was 71.\\n\\nAt dc pt is stable and tolerating full diet.  He is sating well\\non O2 via NC.  He can get OOB to chair with assist.  Anemia has\\nbeen difficult to follow due to difficulty accessing blood.\\nThrombocytopenia is improving.  Pt continues to have metastatic\\ncolon ca.  There are no signs of infection.  Pt is coherent\\nneurologically.  The colostomy is passing gas and stool.  Pt is\\noff antibiotics and on a steroid taper.  Stable to transfer to\\nrehab for further PT/OT and hopeful eventual transfer home.\\n\\nMedications on Admission:\\nZofran, Compazine, Percocet, prn ativan, Prozac,\\nHCTZ. Oxycontin, Oxycodone, Colace, Dexamethasone 4/2/4,\\nPriolsec\\n\\nDischarge Medications:\\n1. Fluoxetine 20 mg Capsule Sig: Two (2) Capsule PO DAILY\\n(Daily).\\nDisp:*180 Capsule(s)* Refills:*2*\\n2. Oxycodone-Acetaminophen 5-325 mg/5 mL Solution Sig: 5-10 MLs\\nPO Q4-6H (every 4 to 6 hours) as needed for pain.\\nDisp:*250 ML(s)* Refills:*2*\\n3. Epoetin Alfa 10,000 unit/mL Solution Sig: One (1)  Injection\\nQMOWEFR (Monday -Wednesday-Friday) for 1 months.\\nDisp:*qs * Refills:*3*\\n4. Pantoprazole 40 mg Tablet, Delayed Release (E.C.) Sig: One\\n(1) Tablet, Delayed Release (E.C.) PO Q24H (every 24 hours).\\nDisp:*30 Tablet, Delayed Release (E.C.)(s)* Refills:*2*\\n5. Dexamethasone 1 mg Tablet Sig: Two (2) Tablet PO twice a day:\\n2 mg [**Hospital1 **] for 2 days, then 2 mg once a day and 1 mg once a day x\\n3 days, then 1 mg [**Hospital1 **] x 3 days, the 1 mg qday x 3 days, then\\noff.\\nDisp:*27 Tablet(s)* Refills:*0*\\n6. Hydrochlorothiazide 25 mg Tablet Sig: One (1) Tablet PO DAILY\\n(Daily).\\nDisp:*30 Tablet(s)* Refills:*2*\\n7. Docusate Sodium 100 mg Capsule Sig: One (1) Capsule PO BID (2\\ntimes a day) as needed.\\nDisp:*60 Capsule(s)* Refills:*2*\\n8. Albuterol Sulfate 0.083 % Solution Sig: [**1-12**]  Inhalation Q6H\\n(every 6 hours).\\nDisp:*qs * Refills:*2*\\n9. Fentanyl 25 mcg/hr Patch 72HR Sig: One (1) Patch 72HR\\nTransdermal Q72H (every 72 hours).\\nDisp:*10 Patch 72HR(s)* Refills:*2*\\n10. Oxycodone 5 mg Tablet Sig: Two (2) Tablet PO Q4-6H (every 4\\nto 6 hours) as needed for pain.\\nDisp:*360 Tablet(s)* Refills:*0*\\n11. Lorazepam 0.5 mg Tablet Sig: One (1) Tablet PO Q8H (every 8\\nhours) as needed for sleep or nausea.\\nDisp:*30 Tablet(s)* Refills:*2*\\n12. Miconazole Nitrate 2 % Powder Sig: One (1) Appl Topical  TID\\n(3 times a day).\\nDisp:*qs * Refills:*2*\\n13. Polyvinyl Alcohol-Povidone 1.4-0.6 % Dropperette Sig: [**1-12**]\\nDrops Ophthalmic  PRN (as needed) as needed for dry eyes.\\nDisp:*qs * Refills:*2*\\n14. Furosemide 40 mg Tablet Sig: One (1) Tablet PO twice a day.\\nDisp:*60 Tablet(s)* Refills:*2*\\n\\n\\nDischarge Disposition:\\nExtended Care\\n\\nFacility:\\n[**Hospital1 700**] - [**Location (un) 701**]\\n\\nDischarge Diagnosis:\\nmetastatic colon cancer with perferated viscus\\n\\n\\nDischarge Condition:\\nstable\\n\\n\\nDischarge Instructions:\\nCode status: Do not resuscitate (DNR/DNI)\\n  Comments: Per Attending discussion with wife: no pressors, no\\ncompressions, no shocking. Do not re-intubate. (ammended [**8-25**]\\nper discussion with family after patient extubation)\\n\\nMedications:\\n  Artificial Tears 1-2 DROP OU PRN dry eyes  [**9-4**] @ 1605 View\\n  Reglan 5-10 mg po q 6-8 h prn nausea\\n  Miconazole Powder 2% 1 Appl TP TID\\n  Dexamethasone 2 mg PO Q PM, 2 mg PO Q NOON for 2 more days,\\nthen decrease to 2 mg q NOON and 1 mg q PM for 3 days, then 1 mg\\n[**Hospital1 **] x 3days, then 1 mg qday x 3 days, then dc.\\n  Furosemide 40 mg po BID\\n  Lorazepam 0.5 mg PO Q8H:PRN sleep or nausea\\n  OxycodONE (Immediate Release)  10 mg PO Q4-6H:PRN pain\\nplease hold for sedation, RR<10\\n  Fentanyl Patch 25 mcg/hr TP Q72H\\n  Albuterol 0.083% Neb Soln 1 NEB IH Q6H\\n  Docusate Sodium 100 mg PO BID:PRN\\n  traZODONE HCl 50 mg PO HS:PRN\\n  Hydrochlorothiazide 25 mg PO DAILY\\n  Pantoprazole 40 mg PO Q24H  [**8-29**] @ 1643 View\\n  Epoetin Alfa 10,000 UNIT SC QMOWEFR Start: HS\\n10,000 given M, W, F\\n  Oxycodone-Acetaminophen Elixir [**5-20**] ml PO Q4-6H:PRN pain\\nplease hold for sedation, RR<10  [**8-28**] @ 0939 View\\n  Fluoxetine HCl 40 mg PO DAILY\\n\\nIVF- no IV\\n\\nNutrition- regular diet, allergic to grapes\\n\\nResp- O2 via NC as needed to keep O2 > 92%\\n  chest pt q4hrs strictly\\n  Precautions: Aspiration\\n\\nOstomy care- bag last changed on [**9-4**]\\n\\nWound care-\\n  Incision- Wet to dry dressing changes [**Hospital1 **]\\n  Fingersticks- none\\n\\nActivity- as tolerated, out of bed with assist\\n\\nLines and drains-\\n  Closed suction drain 2 bulb suction, empty q4h, keep on\\nsuction\\n  Foley to gravity, last changed [**8-28**]\\n\\nVital signs: q4\\n  o2 Sats: with vitals\\n  Weight: qd\\n  Monitor urine output: q4h\\n  Call HO if: T>101.4 ; HR <60 or >110 ; SBP <90 or >160 ; DBP\\n<60\\n  or >90 ; RR <10 or >22 ; O2 <93\\n\\nDO NOT GIVE PT HEPARIN\\n\\nFollowup Instructions:\\nHem Onc Appt Dr [**First Name (STitle) **] [**Hospital1 18**] [**Hospital Ward Name 23**] Building [**2122-9-8**] at 9 am\\n\\nCall Dr[**Name (NI) 22019**] office to schedule a follow up appt. ([**Telephone/Fax (1) 25089**]\\n\\n[**2122-11-5**]  10:00a   [**Last Name (LF) 1533**],[**First Name3 (LF) **] [**Doctor First Name 25090**]\\n  MULTI-SPECIALTY THORACIC UNIT-CC9\\n[**2122-11-5**]  09:30a   XCT (TCC) [**Apartment Address(1) **]\\n  RADIOLOGY\\n[**2122-9-8**]  09:00a   [**Last Name (LF) **],[**First Name3 (LF) **] P.\\n  HEMATOLOGY/ONCOLOGY-CC9\\n[**2122-9-8**]  09:00a   [**Doctor First Name **],HEM/ONC\\n  HEMATOLOGY/ONCOLOGY-CC9\\n\\n\\n                             [**Name6 (MD) 843**] [**Name8 (MD) 844**] MD [**MD Number(1) 845**]\\n\\nCompleted by:[**2122-9-4**]\"]\n"
     ]
    }
   ],
   "source": [
    "print(type(text))\n",
    "print(text.shape)\n",
    "print(text)"
   ]
  },
  {
   "cell_type": "code",
   "execution_count": 60,
   "id": "477cb9b7",
   "metadata": {},
   "outputs": [
    {
     "name": "stdout",
     "output_type": "stream",
     "text": [
      "1610\n"
     ]
    }
   ],
   "source": [
    "words = []\n",
    "for i in range(len(df)):\n",
    "    words.append(str(df[\"text\"].values[i]).split())\n",
    "print(len(words))\n"
   ]
  },
  {
   "cell_type": "code",
   "execution_count": 61,
   "id": "1cb4383b",
   "metadata": {},
   "outputs": [
    {
     "name": "stdout",
     "output_type": "stream",
     "text": [
      "['Admission', 'Date:', '[**2200-4-7**]', 'Discharge', 'Date:', '[**2200-4-10**]', 'Date', 'of', 'Birth:', '[**2146-9-21**]', 'Sex:', 'F', 'Service:', 'CARDIAC', 'INTENSIVE', 'CARE', 'MEDICINE', 'CHIEF', 'COMPLAINT:', 'The', 'patient', 'was', 'admitted', 'to', 'the', 'Cardiac', 'Intensive', 'Care', 'Unit', 'Medicine', 'Service', 'on', '[**2200-4-7**],', 'with', 'the', 'chief', 'complaint', 'of', 'acute', 'myocardial', 'infarction', 'and', 'fever.', 'HISTORY', 'OF', 'PRESENT', 'ILLNESS:', 'The', 'patient', 'is', 'a', '53', 'year', 'old', 'white', 'female', 'with', 'a', 'history', 'of', 'coronary', 'artery', 'disease,', 'hypertension,', 'hypercholesterolemia', 'and', 'two', 'pack', 'per', 'day', 'tobacco', 'use', 'with', 'previous', 'coronary', 'artery', 'bypass', 'graft', 'surgery', 'presenting', 'to', 'an', 'outside', 'hospital', 'on', '[**2200-4-6**],', 'with', 'a', 'two', 'day', 'history', 'of', 'fevers', 'and', 'confusion.', 'The', 'patient', 'had', 'a', 'CT', 'scan', 'of', 'the', 'chest', 'at', 'that', 'time', 'which', 'revealed', 'pneumonia', 'by', 'report', 'in', 'the', 'left', 'lower', 'lobe.', 'While', 'in', 'the', 'outside', 'hospital', 'Emergency', 'Department,', 'the', 'patient', 'complained', 'of', 'chest', 'pain.', 'The', 'patient', 'states', 'that', 'she', 'has', 'had', 'this', 'pain', 'for', 'approximately', 'two', 'weeks', 'with', 'no', 'relief.', 'She', 'was', 'given', 'Levofloxacin', 'for', 'apparent', 'community', 'acquired', 'pneumonia', 'and', 'cardiac', 'enzymes', 'were', 'cycled.', 'The', 'patient', 'was', 'found', 'to', 'have', 'a', 'troponin', 'of', '3.98', 'which', 'rose', 'to', '6.10', 'as', 'well', 'as', 'CK', 'MBs', 'of', '17.3', 'and', '15.2', 'but', 'no', 'CPKs', 'were', 'recorded.', 'The', \"patient's\", 'white', 'blood', 'cell', 'count', 'at', 'that', 'time', 'was', '20.6.', 'The', 'patient', 'received', 'Lovenox', 'and', 'Aspirin', 'and', 'was', 'transferred', 'to', 'the', 'Cardiac', 'Intensive', 'Care', 'Unit', 'at', '[**Hospital1', '346**]', 'for', 'further', 'management.', 'Of', 'note,', 'the', \"patient's\", 'husband', 'reports', 'that', 'she', 'possibly', 'took', 'approximately', '17', 'tablets', 'of', '300', 'mg', 'of', 'Neurontin', 'in', 'the', 'five', 'days', 'prior', 'to', 'admission.', 'PAST', 'MEDICAL', 'HISTORY:', '1.', 'Coronary', 'artery', 'disease,', 'status', 'post', 'coronary', 'artery', 'bypass', 'graft.', '2.', 'Hypertension.', '3.', 'Elevated', 'cholesterol.', '4.', 'Chronic', 'low', 'back', 'pain.', '5.', 'Bronchitis.', '6.', 'Question', 'of', 'liver', 'disease.', '7.', 'Gastroesophageal', 'reflux', 'disease.', '8.', 'Depression.', 'ALLERGIES:', 'Nitroglycerin', 'produces', 'significant', 'decrease', 'in', 'blood', 'pressure.', 'Tape', 'and', 'bee', 'stings.', 'MEDICATIONS', 'ON', 'ADMISSION:', '1.', 'Robaxin', '750', 'mg', 'two', 'tablets', 'q4hours', 'p.r.n.', '2.', 'Alprazolam', '1.5', 'mg', 'q.i.d.', '3.', 'Lipitor', '80', 'mg', 'p.o.', 'q.d.', '4.', 'Gemfibrozil', '600', 'mg', 'b.i.d.', '5.', 'Zoloft', '150', 'mg', 'q.d.', '6.', 'Prilosec', '20', 'mg', 'q.d.', '7.', 'Trazodone', '150', 'mg', 'q.h.s.', '8.', 'Duragesic', 'patch', '100', 'mcg', 'q72hours.', '9.', 'Enteric', 'Coated', 'Aspirin', '81', 'mg', 'q.d.', '10.', 'Vancenase', 'inhaler', 'p.r.n.', '11.', 'Oxycodone', '10', 'mg', 'q4hours', 'p.r.n.', '12.', 'Neurontin', '300', 'mg', 'p.o.', 'b.i.d.', 'to', 't.i.d.', 'SOCIAL', 'HISTORY:', 'The', 'patient', 'smokes', 'two', 'packs', 'per', 'day', 'of', 'tobacco', 'and', 'drinks', 'alcohol', 'socially.', 'She', 'is', 'married', 'and', 'lives', 'with', 'her', 'husband.', 'FAMILY', 'HISTORY:', 'Notable', 'for', 'positive', 'coronary', 'artery', 'disease', 'although', 'no', 'further', 'or', 'more', 'specific', 'history', 'could', 'be', 'obtained.', 'PHYSICAL', 'EXAMINATION:', 'On', 'admission,', 'the', \"patient's\", 'vital', 'signs', 'were', 'as', 'follows:', 'Temperature', '98.2,', 'pulse', '83,', 'respiratory', 'rate', '17,', 'blood', 'pressure', '89/50', 'with', 'a', 'mean', 'of', '67,', 'oxygen', 'saturation', '98%', 'on', 'nonrebreather.', 'Of', 'note,', 'the', 'patient', 'states', 'that', 'her', 'blood', 'pressure', 'usually', 'runs', 'between', '80', 'and', '90', 'systolic.', 'In', 'general,', 'the', 'patient', 'was', 'alert', 'although', 'had', 'difficulty', 'remembering', 'and', 'formulating', 'thoughts.', 'Head,', 'eyes,', 'ears,', 'nose', 'and', 'throat', 'examination', '-', 'The', 'pupils', 'are', 'equal,', 'round,', 'and', 'reactive', 'to', 'light', 'and', 'accommodation.', 'Extraocular', 'movements', 'are', 'intact.', 'Sclera', 'anicteric.', 'Conjunctivae', 'pink.', 'Slight', 'jaundice', 'and', 'pallor.', 'The', 'neck', 'was', 'supple', 'with', 'no', 'lymphadenopathy.', 'The', 'lungs', 'demonstrate', 'coarse', 'rhonchi,', 'question', 'of', 'upper', 'airway', 'sounds', 'transmitted', 'to', 'the', 'anterior', 'and', 'midaxillary', 'line.', 'Cardiovascular', 'regular', 'rate', 'and', 'rhythm,', 'S1', 'and', 'S2,', 'no', 'murmurs,', 'rubs', 'or', 'gallops.', 'The', 'abdomen', 'was', 'soft,', 'nontender,', 'nondistended,', 'with', 'normoactive', 'bowel', 'sounds.', 'The', 'extremities', 'were', 'warm,', '2+', 'dorsalis', 'pedis', 'pulses', 'bilaterally.', 'No', 'edema.', 'Femoral', 'pulses', '2+,', 'no', 'bruits.', 'Rectal', 'examination', 'was', 'guaiac', 'negative', 'per', 'Emergency', 'Department', 'report', 'at', 'the', 'outside', 'hospital.', 'LABORATORY', 'DATA:', 'From', 'the', 'outside', 'hospital,', 'white', 'count', '20.6', 'with', '89', 'neutrophils,', '1', 'band,', '5', 'lymphocytes,', '4', 'monocytes,', 'hematocrit', '38.2,', 'platelets', '222,', 'MCV', '94.9.', 'Sodium', '138,', 'potassium', '4.1,', 'chloride', '98,', 'bicarbonate', '37,', 'blood', 'urea', 'nitrogen', '16,', 'creatinine', '0.7,', 'glucose', '111.', 'Prothrombin', 'time', '12.3,', 'partial', 'thromboplastin', 'time', '28.9,', 'INR', '1.05.', 'As', 'previously', 'mentioned,', 'troponin', 'was', '3.98', 'and', '6.10', 'as', 'well', 'as', 'CK', 'MBs', 'of', '17.3', 'and', '15.2', 'although', 'no', 'CPKs', 'obtainable.', 'Albumin', '3.4,', 'total', 'protein', '6.5,', 'alkaline', 'phosphatase', '148,', 'AST', '109,', 'ALT', '25,', 'total', 'bilirubin', '0.3,', 'calcium', '8.9.', 'Urinalysis', 'was', 'notable', 'for', 'urine', 'protein', 'of', '30.', 'Electrocardiogram', 'showed', 'normal', 'sinus', 'rhythm', 'with', 'a', 'rate', 'of', '88', 'beats', 'per', 'minute.', 'Q-Tc', '443,', 'normal', 'axis.', 'ST', 'elevations', 'in', 'leads', 'III,', 'aVF,', 'ST', 'depressions', 'in', 'leads', 'I,', 'aVL', 'and', 'V1', 'through', 'V3', 'with', 'a', 'Q', 'wave', 'in', 'lead', 'III.', 'Chest', 'x-ray', 'showed', 'no', 'infiltrate', 'and', 'no', 'pulmonary', 'edema', 'although', 'CT', 'scan', 'did', 'show', 'some', 'question', 'of', 'a', 'left', 'lower', 'lobe', 'infiltrate', 'not', 'seen', 'on', 'chest', 'x-ray.', 'HOSPITAL', 'COURSE:', 'The', 'patient', 'was', 'admitted', 'for', 'management', 'of', 'confusion,', 'fever,', 'elevated', 'white', 'count,', 'chest', 'pain,', 'and', 'question', 'of', 'myocardial', 'infarction', 'in', 'the', 'setting', 'of', 'coronary', 'artery', 'disease,', 'status', 'post', 'coronary', 'artery', 'bypass', 'graft', 'four', 'years', 'prior.', 'CKs', 'were', 'cycled.', 'The', 'patient', 'was', 'held', 'NPO', 'and', 'family', 'members', 'were', '[**Name', '(NI)', '653**].', 'The', 'patient', 'was', 'continued', 'on', 'Levofloxacin', 'as', 'started', 'at', 'the', 'outside', 'hospital', 'and', 'given', 'inhalers', 'p.r.n.', 'A', 'psychiatry', 'consultation', 'was', 'obtained', 'on', 'the', 'morning', 'of', '[**2200-4-7**],', 'given', 'the', \"patient's\", 'significant', 'degree', 'of', 'disorientation', 'and', 'confusion', 'and', 'labile', 'emotions.', 'The', \"psychiatrist's\", 'impression', 'was', 'that', 'the', 'patient', 'was', 'suffering', 'from', 'delirium', 'with', 'waxing', 'and', '[**Doctor', 'Last', 'Name', '688**]', 'mental', 'status', 'examination', 'with', 'poor', 'memory.', 'At', 'the', 'time', 'of', 'the', 'interview,', 'the', 'patient', 'was', 'agreeing', 'to', 'consider', 'catheterization', 'although', 'it', 'was', 'noted', 'that', 'if', 'she', 'changed', 'her', 'mind', 'given', 'the', 'importance', 'of', 'this', 'procedure', 'that', 'her', 'husband', 'and', 'children', 'should', 'be', '[**Doctor', 'Last', 'Name', '653**]', 'regarding', 'consent', 'for', 'the', 'procedure', 'and', 'that', 'her', 'capacity', 'to', 'consent', 'at', 'that', 'time', 'should', 'be', 'held', 'in', 'question.', 'Recommendations', 'were', 'made', 'for', 'Haldol', 'p.r.n.', 'as', 'well', 'as', 'Xanax.', 'B12,', 'folate,', 'RPR', 'and', 'TSH', 'were', 'all', 'ordered', 'which', 'returned', 'as', 'normal.', 'The', 'patient', 'also', 'had', 'a', 'head', 'CT', 'at', 'the', 'outside', 'hospital', 'which', 'was', 'unremarkable.', 'CKs', 'were', 'sent', 'at', 'our', 'hospital', 'with', 'initial', 'level', 'of', 'CPK', '464,', 'MB', '12', 'and', 'a', 'troponin', 'of', '49', 'obtained.', 'The', 'patient', 'had', 'been', 'placed', 'on', 'Heparin', 'prior', 'to', 'the', 'anticipation', 'of', 'cardiac', 'catheterization.', 'The', 'patient', 'was', 'initially', 'consented', 'to', 'have', 'cardiac', 'catheterization', 'on', '[**2200-4-7**],', 'although', 'had', 'an', 'acute', 'decompensation', 'in', 'mental', 'status', 'and', 'anxiety', 'attack', 'and', 'it', 'was', 'determined', 'that', 'she', 'would', 'be', 'at', 'high', 'risk', 'for', 'the', 'procedure', 'at', 'that', 'time.', 'Thus,', 'the', 'procedure', 'was', 'deferred', 'to', 'the', 'morning', 'of', '[**2200-4-8**],', 'and', 'findings', 'were', 'as', 'follows:', 'Left', 'ventricular', 'ejection', 'fraction', '62%.', 'Inferior', 'hypokinesis.', 'Normal', 'valves.', 'Discrete', 'proximal', 'right', 'coronary', 'artery', 'lesion', 'of', '100%', 'stenosis.', 'Left', 'main', '100%', 'discrete', 'stenosis.', 'Mid', 'left', 'anterior', 'descending', 'discrete', '100%', 'stenosis,', '50%', 'discrete', 'midcircumflex', 'stenosis.', 'Bypass', 'graft', 'saphenous', 'vein', 'graft', 'to', 'the', 'right', 'coronary', 'artery', 'was', '100%', 'discrete', 'stenosis.', 'Left', 'internal', 'mammary', 'artery', 'to', 'the', 'left', 'anterior', 'descending', 'patent', 'and', 'RIMA', 'to', 'the', 'right', 'coronary', 'artery', 'with', 'a', '40%', 'stenosis.', 'No', 'intervention', 'was', 'performed.', 'It', 'was', 'determined', 'that', 'the', 'patient', 'should', 'be', 'maximized', 'on', 'medical', 'therapy', 'only.', 'The', 'patient', 'was', 'prescribed', 'with', 'Aspirin', 'and', 'Plavix', 'at', 'that', 'time', 'and', 'given', 'diuresis', 'for', 'increasing', 'oxygen', 'requirement.', 'The', 'patient', 'returned', 'to', 'the', 'floor', 'in', 'stable', 'condition', 'and', 'was', 'to', 'the', 'Step-Down', 'Cardiac', 'Unit', 'on', '[**2200-4-8**].', 'The', 'patient', 'returned', 'to', 'baseline', 'mental', 'status', 'throughout', 'the', 'remainder', 'of', 'her', 'hospital', 'stay', 'and', 'was', 'determined', 'to', 'be', 'in', 'stable', 'condition', 'by', '[**2200-4-10**],', 'to', 'be', 'discharged.', 'The', 'patient', 'was', 'in', 'agreement', 'with', 'this', 'plan.', 'DISCHARGE', 'DIAGNOSES:', '1.', 'Coronary', 'artery', 'disease,', 'status', 'post', 'coronary', 'artery', 'bypass', 'graft', 'in', '[**2195**],', 'now', 'with', 'occluded', 'saphenous', 'vein', 'graft', 'to', 'be', 'medically', 'managed.', '2.', 'Hypertension.', '3.', 'Elevated', 'cholesterol.', '4.', 'Chronic', 'low', 'back', 'pain.', '5.', 'Bronchitis', 'with', 'possible', 'acute', 'pneumonia.', '6.', 'Gastroesophageal', 'reflux', 'disease.', '7.', 'Depression.', 'DISCHARGE', 'MEDICATIONS:', '1.', 'Levofloxacin', '500', 'mg', 'p.o.', 'q.d.', 'times', 'nine', 'days', 'to', 'complete', 'a', 'fourteen', 'day', 'course.', '2.', 'Plavix', '75', 'mg', 'one', 'p.o.', 'q.d.', '3.', 'Colace', '100', 'mg', 'p.o.', 'b.i.d.', 'p.r.n.', 'for', 'constipation.', '4.', 'Neutra-Phos', 'one', 'packet', 'p.o.', 'b.i.d.', 'times', 'thirty', 'days.', '5.', 'Prilosec', '20', 'mg', 'p.o.', 'q.d.', '6.', 'Enteric', 'Coated', 'Aspirin', '325', 'mg', 'p.o.', 'q.d.', '7.', 'Zoloft', '150', 'mg', 'p.o.', 'q.d.', '8.', 'Lipitor', '80', 'mg', 'p.o.', 'q.d.', '9.', 'Trazodone', '150', 'mg', 'p.o.', 'q.h.s.', '10.', 'Fentanyl', 'patch', '100', 'mcg', 'transdermal', 'every', 'three', 'days.', '11.', 'Atrovent', 'inhaler', 'two', 'puffs', 'b.i.d.', '12.', 'Tylenol', '#3', 'p.r.n.', '13.', 'Alprazolam', '1.5', 'mg', 'p.o.', 'q.i.d.', 'p.r.n.', '14.', 'Gemfibrozil', '600', 'mg', 'p.o.', 'q.d.', '15.', 'Neurontin', '300', 'mg', 'p.o.', 't.i.d.', 'The', 'patient', 'was', 'to', 'follow-up', 'with', 'her', 'regular', 'cardiologist,', 'Dr', '[**First', 'Name8', '(NamePattern2)', '**]', '[**Last', 'Name', '(NamePattern1)', '**],', 'in', 'one', 'to', 'two', 'weeks', 'after', 'discharge.', 'Consideration', 'is', 'to', 'be', 'made', 'in', 'the', 'future', 'as', 'to', 'whether', 'or', 'not', 'the', \"patient's\", 'blood', 'pressure', 'can', 'tolerate', 'addition', 'of', 'either', 'an', 'ace', 'inhibitor', 'or', 'a', 'beta', 'blocker', 'to', 'her', 'medical', 'regimen', 'for', 'mortality', 'benefit.', '[**First', 'Name8', '(NamePattern2)', '2206**]', '[**First', 'Name4', '(NamePattern1)', '**]', '[**Last', 'Name', '(NamePattern1)', '**],', 'M.D.', '[**MD', 'Number(1)', '18924**]', 'Dictated', 'By:[**Last', 'Name', '(NamePattern1)', '7118**]', 'MEDQUIST36', 'D:', '[**2200-4-10**]', '12:15', 'T:', '[**2200-4-12**]', '08:50', 'JOB#:', '[**Job', 'Number', '18925**]']\n",
      "hello\n"
     ]
    }
   ],
   "source": [
    "print(words[0])"
   ]
  },
  {
   "cell_type": "code",
   "execution_count": 47,
   "id": "a909347b",
   "metadata": {},
   "outputs": [
    {
     "name": "stdout",
     "output_type": "stream",
     "text": [
      "[['This', 'is', 'a', 'sample', 'string'], ['Another', 'sample', 'string']]\n"
     ]
    }
   ],
   "source": [
    "import numpy as np\n",
    "\n",
    "# Assuming `text` is your numpy array with 1610 rows\n",
    "# Replace the following line with your array\n",
    "test = np.array([\"This is a sample string\", \"Another sample string\"])\n",
    "# Use a list comprehension to create a nested list where each inner list is a row in `text` split by spaces\n",
    "nested_list = [row.split() for row in test]\n",
    "\n",
    "print(nested_list)\n"
   ]
  },
  {
   "cell_type": "code",
   "execution_count": 59,
   "id": "28033a39",
   "metadata": {},
   "outputs": [
    {
     "name": "stdout",
     "output_type": "stream",
     "text": [
      "hello\n"
     ]
    }
   ],
   "source": [
    "print(\"hello\")"
   ]
  },
  {
   "cell_type": "code",
   "execution_count": null,
   "id": "0ebe1ee6",
   "metadata": {},
   "outputs": [],
   "source": []
  }
 ],
 "metadata": {
  "kernelspec": {
   "display_name": "Python 3 (ipykernel)",
   "language": "python",
   "name": "python3"
  },
  "language_info": {
   "codemirror_mode": {
    "name": "ipython",
    "version": 3
   },
   "file_extension": ".py",
   "mimetype": "text/x-python",
   "name": "python",
   "nbconvert_exporter": "python",
   "pygments_lexer": "ipython3",
   "version": "3.9.7"
  }
 },
 "nbformat": 4,
 "nbformat_minor": 5
}
